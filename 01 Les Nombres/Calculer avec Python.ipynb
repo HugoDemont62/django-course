{
 "cells": [
  {
   "cell_type": "markdown",
   "id": "jQjHkE8fsrAN",
   "metadata": {
    "id": "jQjHkE8fsrAN"
   },
   "source": [
    "# Les types"
   ]
  },
  {
   "cell_type": "code",
   "id": "uXbFvqs4sqJc",
   "metadata": {
    "colab": {
     "base_uri": "https://localhost:8080/"
    },
    "executionInfo": {
     "elapsed": 205,
     "status": "ok",
     "timestamp": 1704878985057,
     "user": {
      "displayName": "Mouny Samy Modeliar",
      "userId": "02339464991922106836"
     },
     "user_tz": -60
    },
    "id": "uXbFvqs4sqJc",
    "outputId": "86daff68-101c-48d2-a269-a17d0ac33325",
    "ExecuteTime": {
     "end_time": "2024-04-18T08:13:50.114980Z",
     "start_time": "2024-04-18T08:13:50.110293Z"
    }
   },
   "source": [
    "x = \"maman\"\n",
    "\n",
    "type(x)"
   ],
   "outputs": [
    {
     "data": {
      "text/plain": [
       "str"
      ]
     },
     "execution_count": 90,
     "metadata": {},
     "output_type": "execute_result"
    }
   ],
   "execution_count": 90
  },
  {
   "cell_type": "code",
   "id": "05X-CNMTtO4W",
   "metadata": {
    "colab": {
     "base_uri": "https://localhost:8080/",
     "height": 35
    },
    "executionInfo": {
     "elapsed": 217,
     "status": "ok",
     "timestamp": 1704879049737,
     "user": {
      "displayName": "Mouny Samy Modeliar",
      "userId": "02339464991922106836"
     },
     "user_tz": -60
    },
    "id": "05X-CNMTtO4W",
    "outputId": "3dcb5fbd-dca7-4818-cc49-6406a8279413",
    "ExecuteTime": {
     "end_time": "2024-04-18T08:13:50.266739Z",
     "start_time": "2024-04-18T08:13:50.262990Z"
    }
   },
   "source": [
    "2*\"maman\""
   ],
   "outputs": [
    {
     "data": {
      "text/plain": [
       "'mamanmaman'"
      ]
     },
     "execution_count": 91,
     "metadata": {},
     "output_type": "execute_result"
    }
   ],
   "execution_count": 91
  },
  {
   "cell_type": "markdown",
   "id": "9370ab24",
   "metadata": {
    "id": "9370ab24"
   },
   "source": [
    "# Calculer avec Python woww\n",
    "* qdqsdsq\n",
    "* qsdqs\n",
    "$x^2$"
   ]
  },
  {
   "cell_type": "markdown",
   "id": "105434d5",
   "metadata": {
    "id": "105434d5"
   },
   "source": [
    "![image.png](attachment:image.png)"
   ]
  },
  {
   "cell_type": "code",
   "id": "fb0b9414",
   "metadata": {
    "colab": {
     "base_uri": "https://localhost:8080/"
    },
    "executionInfo": {
     "elapsed": 232,
     "status": "ok",
     "timestamp": 1704878271029,
     "user": {
      "displayName": "Mouny Samy Modeliar",
      "userId": "02339464991922106836"
     },
     "user_tz": -60
    },
    "id": "fb0b9414",
    "outputId": "eac92195-23b8-4a4f-b856-89968406be30",
    "ExecuteTime": {
     "end_time": "2024-04-18T08:13:50.274401Z",
     "start_time": "2024-04-18T08:13:50.269748Z"
    }
   },
   "source": [
    "# Des commentaires\n",
    "'''\n",
    "sdsdf\n",
    "sdfsdf\n",
    "sdffdsfsd\n",
    "sdfs\n",
    "'''\n",
    "2+3*9"
   ],
   "outputs": [
    {
     "data": {
      "text/plain": [
       "29"
      ]
     },
     "execution_count": 92,
     "metadata": {},
     "output_type": "execute_result"
    }
   ],
   "execution_count": 92
  },
  {
   "cell_type": "code",
   "id": "3b5ec907",
   "metadata": {
    "colab": {
     "base_uri": "https://localhost:8080/"
    },
    "executionInfo": {
     "elapsed": 238,
     "status": "ok",
     "timestamp": 1704878285809,
     "user": {
      "displayName": "Mouny Samy Modeliar",
      "userId": "02339464991922106836"
     },
     "user_tz": -60
    },
    "id": "3b5ec907",
    "outputId": "1b1f497e-bff2-4664-bd5e-4938f3cd946c",
    "ExecuteTime": {
     "end_time": "2024-04-18T08:13:50.287549Z",
     "start_time": "2024-04-18T08:13:50.283409Z"
    }
   },
   "source": [
    "# Les règles de priorité s'appliquent\n",
    "(50-5*6)/4"
   ],
   "outputs": [
    {
     "data": {
      "text/plain": [
       "5.0"
      ]
     },
     "execution_count": 93,
     "metadata": {},
     "output_type": "execute_result"
    }
   ],
   "execution_count": 93
  },
  {
   "cell_type": "code",
   "id": "9f3ea66f",
   "metadata": {
    "colab": {
     "base_uri": "https://localhost:8080/"
    },
    "executionInfo": {
     "elapsed": 211,
     "status": "ok",
     "timestamp": 1704878298537,
     "user": {
      "displayName": "Mouny Samy Modeliar",
      "userId": "02339464991922106836"
     },
     "user_tz": -60
    },
    "id": "9f3ea66f",
    "outputId": "fe681cff-f970-43bc-dc33-1387758f6106",
    "ExecuteTime": {
     "end_time": "2024-04-18T08:13:50.294192Z",
     "start_time": "2024-04-18T08:13:50.290559Z"
    }
   },
   "source": [
    "# La puissance utilise le double étoile\n",
    "4**3"
   ],
   "outputs": [
    {
     "data": {
      "text/plain": [
       "64"
      ]
     },
     "execution_count": 94,
     "metadata": {},
     "output_type": "execute_result"
    }
   ],
   "execution_count": 94
  },
  {
   "cell_type": "code",
   "id": "3Gfv7EHWqn5p",
   "metadata": {
    "colab": {
     "base_uri": "https://localhost:8080/"
    },
    "executionInfo": {
     "elapsed": 220,
     "status": "ok",
     "timestamp": 1704878402295,
     "user": {
      "displayName": "Mouny Samy Modeliar",
      "userId": "02339464991922106836"
     },
     "user_tz": -60
    },
    "id": "3Gfv7EHWqn5p",
    "outputId": "c2793cbc-9e4e-4dc8-af72-0633c51a6f08",
    "ExecuteTime": {
     "end_time": "2024-04-18T08:13:50.351210Z",
     "start_time": "2024-04-18T08:13:50.346200Z"
    }
   },
   "source": [
    "x = 8\n",
    "y = 6\n",
    "print(y)\n",
    "x+3"
   ],
   "outputs": [
    {
     "name": "stdout",
     "output_type": "stream",
     "text": [
      "6\n"
     ]
    },
    {
     "data": {
      "text/plain": [
       "11"
      ]
     },
     "execution_count": 95,
     "metadata": {},
     "output_type": "execute_result"
    }
   ],
   "execution_count": 95
  },
  {
   "cell_type": "code",
   "id": "ab0f9a08",
   "metadata": {
    "id": "ab0f9a08",
    "outputId": "986c7bd1-58a5-4fb3-c190-8ae067e65464",
    "ExecuteTime": {
     "end_time": "2024-04-18T08:13:50.380547Z",
     "start_time": "2024-04-18T08:13:50.376218Z"
    }
   },
   "source": [
    "# Avec Python, plusieurs variables peuvent être assignées simultanément\n",
    "x = y = z = 0\n",
    "print(x,y,z)\n",
    "a , b = 2 , 3\n",
    "a , b = b , a\n",
    "\n",
    "print(a,b)"
   ],
   "outputs": [
    {
     "name": "stdout",
     "output_type": "stream",
     "text": [
      "0 0 0\n",
      "3 2\n"
     ]
    }
   ],
   "execution_count": 96
  },
  {
   "cell_type": "markdown",
   "id": "786e486b",
   "metadata": {
    "id": "786e486b"
   },
   "source": [
    "**L'underscore renvoie la dernière valeur calculée**\n",
    "<div>\n",
    "<img src=\"attachment:image-3.png\" width=\"500\" height=\"300\"/>\n",
    "</div>"
   ]
  },
  {
   "cell_type": "markdown",
   "id": "a0011468",
   "metadata": {
    "id": "a0011468"
   },
   "source": [
    "$a = \\frac{3 + i}{2} $"
   ]
  },
  {
   "cell_type": "code",
   "id": "6e5422dd",
   "metadata": {
    "id": "6e5422dd",
    "outputId": "e0db9a12-b7f5-4855-d7e6-4a6b51da2229",
    "ExecuteTime": {
     "end_time": "2024-04-18T08:13:50.416114Z",
     "start_time": "2024-04-18T08:13:50.412557Z"
    }
   },
   "source": [
    "# Les complexes sont représentés comme ci-dessous\n",
    "a=1.5+0.5j\n",
    "b = 1j**2\n",
    "print(a,b)\n",
    "print(\"Partie réelle\",a.real)\n",
    "print(\"Partie imaginaire\",a.imag)"
   ],
   "outputs": [
    {
     "name": "stdout",
     "output_type": "stream",
     "text": [
      "(1.5+0.5j) (-1+0j)\n",
      "Partie réelle 1.5\n",
      "Partie imaginaire 0.5\n"
     ]
    }
   ],
   "execution_count": 97
  },
  {
   "cell_type": "markdown",
   "id": "5ccdfb86",
   "metadata": {
    "id": "5ccdfb86"
   },
   "source": [
    "Calculons $|\\frac{1+2i}{4}|$."
   ]
  },
  {
   "cell_type": "code",
   "id": "037e91ff",
   "metadata": {
    "id": "037e91ff",
    "outputId": "cc34407c-7f7c-47fd-fb53-04247d569d5c",
    "ExecuteTime": {
     "end_time": "2024-04-18T08:13:50.433507Z",
     "start_time": "2024-04-18T08:13:50.430123Z"
    }
   },
   "source": [
    "# trois méthodes équivalentes\n",
    "\n",
    "# Méthode 1\n",
    "z = 0.25 + 0.5j\n",
    "a1 = abs(z)\n",
    "print(a1)\n",
    "\n",
    "# Méthode 2\n",
    "z = (1+2j)/4\n",
    "a2 = abs(z)\n",
    "print(a2)\n",
    "\n",
    "# Méthode 3\n",
    "z = complex(0.25,0.5)\n",
    "a3 = abs(z)\n",
    "print(a3)"
   ],
   "outputs": [
    {
     "name": "stdout",
     "output_type": "stream",
     "text": [
      "0.5590169943749475\n",
      "0.5590169943749475\n",
      "0.5590169943749475\n"
     ]
    }
   ],
   "execution_count": 98
  },
  {
   "cell_type": "markdown",
   "id": "839f6b69",
   "metadata": {
    "id": "839f6b69"
   },
   "source": [
    "## Les bibliothèques\n",
    "\n",
    "Pour importer une bibliothèque on peut utiliser:\n",
    "\n",
    "* `import nomBibliotheque` pour importer toute la bibliothèque nomBibliotheque en utilisant le nom de la bibliothèque en préfixe.\n",
    "* `import nomBibliotheque as nom` pour importer toute la bibliothèque en utilisant nom en préfixe.\n",
    "* `from nomBibliotheque import nomFonction`pour importer la fonction nomFonction de la bibliothèque nomBibliotheque\n",
    "* `from nomBibliotheque import nomFonction as nomFonction` pour importer la fonction nomFonction de la bibliothèque nomBibliotheque sous le nom nomFonction."
   ]
  },
  {
   "cell_type": "markdown",
   "id": "f2811a57",
   "metadata": {
    "id": "f2811a57"
   },
   "source": [
    "### Module math\n",
    "\n",
    "Calculons $cos(\\pi)$, $5!$ et $arccos(1)$."
   ]
  },
  {
   "cell_type": "code",
   "id": "w2n2D3CMrV6r",
   "metadata": {
    "colab": {
     "base_uri": "https://localhost:8080/"
    },
    "executionInfo": {
     "elapsed": 4,
     "status": "ok",
     "timestamp": 1704878666233,
     "user": {
      "displayName": "Mouny Samy Modeliar",
      "userId": "02339464991922106836"
     },
     "user_tz": -60
    },
    "id": "w2n2D3CMrV6r",
    "outputId": "b739e2f5-7801-4315-e8fb-9c291bd0d496",
    "ExecuteTime": {
     "end_time": "2024-04-18T08:13:50.458627Z",
     "start_time": "2024-04-18T08:13:50.454514Z"
    }
   },
   "source": [
    "from math import sqrt as sq\n",
    "\n",
    "sq(4)"
   ],
   "outputs": [
    {
     "data": {
      "text/plain": [
       "2.0"
      ]
     },
     "execution_count": 99,
     "metadata": {},
     "output_type": "execute_result"
    }
   ],
   "execution_count": 99
  },
  {
   "cell_type": "code",
   "id": "2c1d55b5",
   "metadata": {
    "id": "2c1d55b5",
    "outputId": "8c2ea655-51e0-4bbf-a3ca-c904b00a1028",
    "ExecuteTime": {
     "end_time": "2024-04-18T08:13:50.511789Z",
     "start_time": "2024-04-18T08:13:50.506638Z"
    }
   },
   "source": [
    "# importation de la bibliothèque\n",
    "import math\n",
    "from math import pi,factorial,cos\n",
    "\n",
    "d = cos(pi)\n",
    "print(d)\n",
    "\n",
    "e = factorial(5)\n",
    "print(e)\n",
    "\n",
    "f = math.acos(1)\n",
    "print(f)"
   ],
   "outputs": [
    {
     "name": "stdout",
     "output_type": "stream",
     "text": [
      "-1.0\n",
      "120\n",
      "0.0\n"
     ]
    }
   ],
   "execution_count": 100
  },
  {
   "cell_type": "markdown",
   "id": "d108a40e",
   "metadata": {
    "id": "d108a40e"
   },
   "source": [
    "### Module random\n",
    "\n",
    "Simulation d'un dé à 6 faces."
   ]
  },
  {
   "cell_type": "code",
   "id": "9dd7f982",
   "metadata": {
    "colab": {
     "base_uri": "https://localhost:8080/"
    },
    "executionInfo": {
     "elapsed": 212,
     "status": "ok",
     "timestamp": 1704878802306,
     "user": {
      "displayName": "Mouny Samy Modeliar",
      "userId": "02339464991922106836"
     },
     "user_tz": -60
    },
    "id": "9dd7f982",
    "outputId": "030a7d5a-28a7-4ffa-94ce-fe049e930b67",
    "ExecuteTime": {
     "end_time": "2024-04-18T08:13:50.530617Z",
     "start_time": "2024-04-18T08:13:50.525797Z"
    }
   },
   "source": [
    "from random import randint,random\n",
    "\n",
    "# randint(a,b) donne aléatoirement (uniforme) un nombre entier compris entre a et b inclus.\n",
    "print(\"La face est\",randint(1,6))"
   ],
   "outputs": [
    {
     "name": "stdout",
     "output_type": "stream",
     "text": [
      "La face est 5\n"
     ]
    }
   ],
   "execution_count": 101
  },
  {
   "cell_type": "code",
   "id": "IH0ULK08sSyX",
   "metadata": {
    "colab": {
     "base_uri": "https://localhost:8080/"
    },
    "executionInfo": {
     "elapsed": 2,
     "status": "ok",
     "timestamp": 1704878819304,
     "user": {
      "displayName": "Mouny Samy Modeliar",
      "userId": "02339464991922106836"
     },
     "user_tz": -60
    },
    "id": "IH0ULK08sSyX",
    "outputId": "61774c8e-7626-47ec-96ab-4b8027661577",
    "ExecuteTime": {
     "end_time": "2024-04-18T08:13:50.551548Z",
     "start_time": "2024-04-18T08:13:50.547131Z"
    }
   },
   "source": "int(random()*6) + 1",
   "outputs": [
    {
     "data": {
      "text/plain": [
       "5"
      ]
     },
     "execution_count": 102,
     "metadata": {},
     "output_type": "execute_result"
    }
   ],
   "execution_count": 102
  },
  {
   "cell_type": "code",
   "id": "5f9fbec6",
   "metadata": {
    "id": "5f9fbec6",
    "outputId": "a0560efa-5a0a-4ce7-fad1-51057e669c58",
    "ExecuteTime": {
     "end_time": "2024-04-18T08:13:50.594455Z",
     "start_time": "2024-04-18T08:13:50.589553Z"
    }
   },
   "source": [
    "import random\n",
    "\n",
    "\n",
    "print(random.choice(['G','A','C','T']))\n",
    "print(random.choices('abcdefghijklmopqrstuvwxyz',k=4)) # tirage de k=4 éléments avec remise\n",
    "print(random.randint(25,65))\n",
    "print(list(range(1,50,2)))\n",
    "print(random.sample(range(1,50,2), 5))\n",
    "lst=['G','A','C','T']\n",
    "print(lst, 'avant')\n",
    "random.shuffle(lst)\n",
    "print(lst, 'après')"
   ],
   "outputs": [
    {
     "name": "stdout",
     "output_type": "stream",
     "text": [
      "G\n",
      "['a', 'f', 'm', 'o']\n",
      "38\n",
      "[1, 3, 5, 7, 9, 11, 13, 15, 17, 19, 21, 23, 25, 27, 29, 31, 33, 35, 37, 39, 41, 43, 45, 47, 49]\n",
      "[5, 17, 35, 25, 1]\n",
      "['G', 'A', 'C', 'T'] avant\n",
      "['C', 'G', 'T', 'A'] après\n"
     ]
    }
   ],
   "execution_count": 103
  },
  {
   "cell_type": "markdown",
   "id": "cc9f434d",
   "metadata": {
    "id": "cc9f434d"
   },
   "source": [
    "## Conversions"
   ]
  },
  {
   "cell_type": "code",
   "id": "4d063341",
   "metadata": {
    "id": "4d063341",
    "outputId": "87c1cd20-d1fa-4f49-beb8-9ea45c4eeede",
    "ExecuteTime": {
     "end_time": "2024-04-18T08:13:50.616395Z",
     "start_time": "2024-04-18T08:13:50.612463Z"
    }
   },
   "source": [
    "7%3"
   ],
   "outputs": [
    {
     "data": {
      "text/plain": [
       "1"
      ]
     },
     "execution_count": 104,
     "metadata": {},
     "output_type": "execute_result"
    }
   ],
   "execution_count": 104
  },
  {
   "cell_type": "code",
   "id": "e69369b3",
   "metadata": {
    "id": "e69369b3",
    "outputId": "b05df676-bb09-4713-a4c3-7409d0362094",
    "ExecuteTime": {
     "end_time": "2024-04-18T08:13:50.650964Z",
     "start_time": "2024-04-18T08:13:50.645404Z"
    }
   },
   "source": [
    "g=int('123')\n",
    "print(type(g))\n",
    "print(\"3*g =\",3*g)\n",
    "\n",
    "print(\"-\"*15)\n",
    "\n",
    "gg = int('100111',2) # Conversion depuis la base 2\n",
    "print(\"Valeur décimale de (100111)_2 = \",gg)\n",
    "print(\"Conversion de 39 en base 2: \",bin(39))\n",
    "\n",
    "print(\"-\"*15)\n",
    "\n",
    "ggg=int('3F',16)   # Conversion depuis la base 16, hexa\n",
    "print('Valeur de 3F en base 10 = ',ggg)\n",
    "print(\"Conversion de 63 en base 16: \",hex(63))\n",
    "\n",
    "print(\"-\"*15)\n",
    "\n",
    "h=float('12.3')\n",
    "print(\"type de h:\",type(h))\n",
    "print(h)"
   ],
   "outputs": [
    {
     "name": "stdout",
     "output_type": "stream",
     "text": [
      "<class 'int'>\n",
      "3*g = 369\n",
      "---------------\n",
      "Valeur décimale de (100111)_2 =  39\n",
      "Conversion de 39 en base 2:  0b100111\n",
      "---------------\n",
      "Valeur de 3F en base 10 =  63\n",
      "Conversion de 63 en base 16:  0x3f\n",
      "---------------\n",
      "type de h: <class 'float'>\n",
      "12.3\n"
     ]
    }
   ],
   "execution_count": 105
  },
  {
   "cell_type": "markdown",
   "id": "02d4ffb1",
   "metadata": {
    "id": "02d4ffb1"
   },
   "source": [
    "## Arithmétique"
   ]
  },
  {
   "cell_type": "code",
   "id": "a054e8da",
   "metadata": {
    "id": "a054e8da",
    "outputId": "3268ef73-fd5c-4bb8-b5fb-27646eca288f",
    "ExecuteTime": {
     "end_time": "2024-04-18T08:13:50.665523Z",
     "start_time": "2024-04-18T08:13:50.660973Z"
    }
   },
   "source": [
    "print(divmod(7,3)) # 7 = 3*2 + 1\n",
    "print(divmod(7,3)[0])   # Quotient\n",
    "print(divmod(7,3)[1] )  # Reste\n",
    "\n",
    "q,r = divmod(7,3)\n",
    "print(\"Quotient:\",q)\n",
    "print(\"Reste:\",r)\n",
    "\n",
    "print(7/3) # division réelle (enfin presque...)\n",
    "print(\"Division entière\",7//3) # division entière, donne le quotient\n",
    "print(\"Modulo \",7%3) # Modulo, donne le reste"
   ],
   "outputs": [
    {
     "name": "stdout",
     "output_type": "stream",
     "text": [
      "(2, 1)\n",
      "2\n",
      "1\n",
      "Quotient: 2\n",
      "Reste: 1\n",
      "2.3333333333333335\n",
      "Division entière 2\n",
      "Modulo  1\n"
     ]
    }
   ],
   "execution_count": 106
  },
  {
   "cell_type": "markdown",
   "id": "eace5d73",
   "metadata": {
    "id": "eace5d73"
   },
   "source": [
    "## Min/Max"
   ]
  },
  {
   "cell_type": "code",
   "id": "193419fb",
   "metadata": {
    "id": "193419fb",
    "outputId": "4231ae2b-22bb-43bc-e6c5-002c8ca52129",
    "ExecuteTime": {
     "end_time": "2024-04-18T08:13:50.690819Z",
     "start_time": "2024-04-18T08:13:50.686533Z"
    }
   },
   "source": [
    "##%% Max,min\n",
    "print(max(7,3))\n",
    "print(min(7,3))"
   ],
   "outputs": [
    {
     "name": "stdout",
     "output_type": "stream",
     "text": [
      "7\n",
      "3\n"
     ]
    }
   ],
   "execution_count": 107
  },
  {
   "cell_type": "markdown",
   "id": "278a375e",
   "metadata": {
    "id": "278a375e"
   },
   "source": [
    "## Assignements"
   ]
  },
  {
   "cell_type": "code",
   "id": "af1e18f9",
   "metadata": {
    "id": "af1e18f9",
    "outputId": "6fc47d7a-a582-4a60-c367-4364604a7f1b",
    "ExecuteTime": {
     "end_time": "2024-04-18T08:13:50.727003Z",
     "start_time": "2024-04-18T08:13:50.722826Z"
    }
   },
   "source": [
    "a = 5\n",
    "a %= 7\n",
    "a"
   ],
   "outputs": [
    {
     "data": {
      "text/plain": [
       "5"
      ]
     },
     "execution_count": 108,
     "metadata": {},
     "output_type": "execute_result"
    }
   ],
   "execution_count": 108
  },
  {
   "cell_type": "code",
   "id": "3974ff9f",
   "metadata": {
    "id": "3974ff9f",
    "outputId": "bdecd75c-e686-42ce-9b5f-932dc5053666",
    "ExecuteTime": {
     "end_time": "2024-04-18T08:13:50.751986Z",
     "start_time": "2024-04-18T08:13:50.748011Z"
    }
   },
   "source": [
    "a = 5\n",
    "print(\"a = \",a)\n",
    "a += 3 # équivalent à a = a + 3\n",
    "print(\"a += 3 -> a = \",a)\n",
    "a *= 2 # équivalent à a = 2*a\n",
    "print(\"a *= 2 -> a = \",a)\n",
    "a /= 2 # équivalent à a = a/2\n",
    "print(\"a /= 2 -> a = \",a)\n",
    "a **= 2 # équivalent à a = a**2\n",
    "print(\"a **= 2 -> a = \",a)\n",
    "condition1 = (a == 64)\n",
    "condition2 = (a == 63)\n",
    "print(\"condition1:\",condition1)\n",
    "print(\"condition2:\",condition2)"
   ],
   "outputs": [
    {
     "name": "stdout",
     "output_type": "stream",
     "text": [
      "a =  5\n",
      "a += 3 -> a =  8\n",
      "a *= 2 -> a =  16\n",
      "a /= 2 -> a =  8.0\n",
      "a **= 2 -> a =  64.0\n",
      "condition1: True\n",
      "condition2: False\n"
     ]
    }
   ],
   "execution_count": 109
  },
  {
   "cell_type": "markdown",
   "id": "56d66c89",
   "metadata": {
    "id": "56d66c89"
   },
   "source": [
    "# Exercices"
   ]
  },
  {
   "cell_type": "markdown",
   "id": "99f5a1ea",
   "metadata": {
    "id": "99f5a1ea"
   },
   "source": [
    "## Exercice 1\n",
    "\n",
    "**Calculer le pourcentage de base A+T** dans la chaine `adn = \"agccgtaggctatttcgacgcaa\"`\n",
    "\n",
    "On donne les valeurs suivantes:\n",
    "* Nbre de a = 6\n",
    "* Nbre de t = 5\n",
    "* Longueur chaine adn =23\n",
    "\n",
    "On affichera le résultat en utilisant la fonction `print`\n"
   ]
  },
  {
   "cell_type": "code",
   "id": "8c8bbbd6",
   "metadata": {
    "id": "8c8bbbd6",
    "ExecuteTime": {
     "end_time": "2024-04-18T08:13:50.766036Z",
     "start_time": "2024-04-18T08:13:50.761995Z"
    }
   },
   "source": [
    "# Données\n",
    "adn = \"agccgtaggctatttcgacgcaa\"\n",
    "nba = 6\n",
    "nbt = 5\n",
    "lch = 23\n",
    "\n",
    "pourcentage = ((nba+nbt)/lch)*100\n",
    "\n",
    "# A l'aide de la fonction print, afficher le résultat\n",
    "print(\"Le pourcentage de base A+T est de \",pourcentage,\"%\")\n",
    "\n"
   ],
   "outputs": [
    {
     "name": "stdout",
     "output_type": "stream",
     "text": [
      "Le pourcentage de base A+T est de  47.82608695652174 %\n"
     ]
    }
   ],
   "execution_count": 110
  },
  {
   "cell_type": "markdown",
   "id": "02779f30",
   "metadata": {
    "id": "02779f30"
   },
   "source": [
    "## Exercice 2\n",
    "\n",
    "**Calculer de la probabilité de gagner au loto à l'aide du module `math`**"
   ]
  },
  {
   "cell_type": "code",
   "id": "c088f286",
   "metadata": {
    "id": "c088f286",
    "outputId": "14ff3318-864e-4c9e-c889-ce619b3f6f82",
    "ExecuteTime": {
     "end_time": "2024-04-18T08:13:50.799040Z",
     "start_time": "2024-04-18T08:13:50.795055Z"
    }
   },
   "source": [
    "# import math\n",
    "from math import factorial\n",
    "import random\n",
    "\n",
    "# Nombre de boules\n",
    "n = 49\n",
    "\n",
    "# Nombre de boules tirées\n",
    "r = 6\n",
    "\n",
    "# Nbre de possibilités : n!/(r!(n-r)!)\n",
    "\n",
    "possibilites = factorial(n)/(factorial(r)*factorial(n-r))\n",
    "\n",
    "print(\"Le nombre de possibilités est :\",possibilites)\n",
    "\n",
    "tirage = random.sample(range(1,50),k=6)\n",
    "print(tirage)\n"
   ],
   "outputs": [
    {
     "name": "stdout",
     "output_type": "stream",
     "text": [
      "Le nombre de possibilités est : 13983816.0\n",
      "[22, 10, 38, 31, 21, 48]\n"
     ]
    }
   ],
   "execution_count": 111
  }
 ],
 "metadata": {
  "colab": {
   "provenance": []
  },
  "kernelspec": {
   "display_name": "Python 3 (ipykernel)",
   "language": "python",
   "name": "python3"
  },
  "language_info": {
   "codemirror_mode": {
    "name": "ipython",
    "version": 3
   },
   "file_extension": ".py",
   "mimetype": "text/x-python",
   "name": "python",
   "nbconvert_exporter": "python",
   "pygments_lexer": "ipython3",
   "version": "3.9.12"
  }
 },
 "nbformat": 4,
 "nbformat_minor": 5
}
