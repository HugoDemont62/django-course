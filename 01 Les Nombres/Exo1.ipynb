{
 "cells": [
  {
   "metadata": {},
   "cell_type": "markdown",
   "source": "# Exo 0.1",
   "id": "4fc9cf6d89d7a7c5"
  },
  {
   "metadata": {},
   "cell_type": "code",
   "source": [
    "# Ceci est un commentaire\n",
    "print(\"Hello, World!\")  # Ceci est aussi un commentaire"
   ],
   "id": "c7d6dccafb572c05",
   "outputs": [],
   "execution_count": null
  },
  {
   "metadata": {},
   "cell_type": "code",
   "source": [
    "# Addition de string\n",
    "\"maman\" + \"papa\""
   ],
   "id": "3569fe78382965ad",
   "outputs": [],
   "execution_count": null
  },
  {
   "metadata": {},
   "cell_type": "code",
   "source": [
    "# Multiplication de string\n",
    "chaine = \"maman\"\n",
    "print(chaine[1:3])\n",
    "\n",
    "for i in range(7):\n",
    "    print(chaine[1:4:2]) # affiche les caractères de 1 à 4 avec un pas de 2"
   ],
   "id": "b760acefd1c05a50",
   "outputs": [],
   "execution_count": null
  }
 ],
 "metadata": {
  "kernelspec": {
   "display_name": "Python 3",
   "language": "python",
   "name": "python3"
  },
  "language_info": {
   "codemirror_mode": {
    "name": "ipython",
    "version": 2
   },
   "file_extension": ".py",
   "mimetype": "text/x-python",
   "name": "python",
   "nbconvert_exporter": "python",
   "pygments_lexer": "ipython2",
   "version": "2.7.6"
  }
 },
 "nbformat": 4,
 "nbformat_minor": 5
}
