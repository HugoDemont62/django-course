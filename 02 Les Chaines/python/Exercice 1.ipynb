{
 "cells": [
  {
   "cell_type": "code",
   "id": "9f97b051",
   "metadata": {
    "id": "9f97b051",
    "ExecuteTime": {
     "end_time": "2024-04-18T08:45:46.535656Z",
     "start_time": "2024-04-18T08:45:46.532261Z"
    }
   },
   "source": [
    "# Les chaînes de caractères permettent aussi de représenter des chaînes d'ADN :\n",
    "# Soit la chaine d'adn ci-dessous\n",
    "adn = 'agccgtaggctatttcgacgcaa'"
   ],
   "outputs": [],
   "execution_count": 23
  },
  {
   "cell_type": "markdown",
   "id": "0fb93bc7",
   "metadata": {
    "id": "0fb93bc7"
   },
   "source": [
    "**Afficher la chaîne d'ADN à l'aide de la commande `print`**"
   ]
  },
  {
   "cell_type": "code",
   "id": "fd3d22fd",
   "metadata": {
    "colab": {
     "base_uri": "https://localhost:8080/"
    },
    "executionInfo": {
     "elapsed": 382,
     "status": "ok",
     "timestamp": 1704881531321,
     "user": {
      "displayName": "Mouny Samy Modeliar",
      "userId": "02339464991922106836"
     },
     "user_tz": -60
    },
    "id": "fd3d22fd",
    "outputId": "3edbc90f-3785-46cd-a414-6b087a31c318",
    "ExecuteTime": {
     "end_time": "2024-04-18T08:45:46.561183Z",
     "start_time": "2024-04-18T08:45:46.557708Z"
    }
   },
   "source": "print(adn)",
   "outputs": [
    {
     "name": "stdout",
     "output_type": "stream",
     "text": [
      "agccgtaggctatttcgacgcaa\n"
     ]
    }
   ],
   "execution_count": 24
  },
  {
   "cell_type": "markdown",
   "id": "d1597824",
   "metadata": {
    "id": "d1597824"
   },
   "source": [
    "**Afficher la longueur de cette chaîne d'ADN**"
   ]
  },
  {
   "cell_type": "code",
   "id": "ee43d1fd",
   "metadata": {
    "colab": {
     "base_uri": "https://localhost:8080/"
    },
    "executionInfo": {
     "elapsed": 5,
     "status": "ok",
     "timestamp": 1704881567412,
     "user": {
      "displayName": "Mouny Samy Modeliar",
      "userId": "02339464991922106836"
     },
     "user_tz": -60
    },
    "id": "ee43d1fd",
    "outputId": "c5657424-921a-42e3-90c6-b1b4482ed1ce",
    "ExecuteTime": {
     "end_time": "2024-04-18T08:45:46.582534Z",
     "start_time": "2024-04-18T08:45:46.578226Z"
    }
   },
   "source": "len(adn)",
   "outputs": [
    {
     "data": {
      "text/plain": [
       "23"
      ]
     },
     "execution_count": 25,
     "metadata": {},
     "output_type": "execute_result"
    }
   ],
   "execution_count": 25
  },
  {
   "cell_type": "markdown",
   "id": "be84ce36",
   "metadata": {
    "id": "be84ce36"
   },
   "source": [
    "**Afficher la première base de la chaîne d'ADN**"
   ]
  },
  {
   "cell_type": "code",
   "id": "395d6e37",
   "metadata": {
    "colab": {
     "base_uri": "https://localhost:8080/"
    },
    "executionInfo": {
     "elapsed": 6,
     "status": "ok",
     "timestamp": 1704882096193,
     "user": {
      "displayName": "Mouny Samy Modeliar",
      "userId": "02339464991922106836"
     },
     "user_tz": -60
    },
    "id": "395d6e37",
    "outputId": "62186ba9-0d43-4fc9-80a9-5fa291e69b43",
    "ExecuteTime": {
     "end_time": "2024-04-18T08:45:46.593741Z",
     "start_time": "2024-04-18T08:45:46.589577Z"
    }
   },
   "source": "adn[0]\n",
   "outputs": [
    {
     "data": {
      "text/plain": [
       "'a'"
      ]
     },
     "execution_count": 26,
     "metadata": {},
     "output_type": "execute_result"
    }
   ],
   "execution_count": 26
  },
  {
   "cell_type": "markdown",
   "id": "3482253f",
   "metadata": {
    "id": "3482253f"
   },
   "source": [
    "**Ajouter le fragment `tga` au début de l'ADN**"
   ]
  },
  {
   "cell_type": "code",
   "id": "ad6a93eb",
   "metadata": {
    "colab": {
     "base_uri": "https://localhost:8080/",
     "height": 35
    },
    "executionInfo": {
     "elapsed": 534,
     "status": "ok",
     "timestamp": 1704882753273,
     "user": {
      "displayName": "Mouny Samy Modeliar",
      "userId": "02339464991922106836"
     },
     "user_tz": -60
    },
    "id": "ad6a93eb",
    "outputId": "79fade25-a478-4afd-9ca7-5b0df4e9006e",
    "ExecuteTime": {
     "end_time": "2024-04-18T08:45:46.598503Z",
     "start_time": "2024-04-18T08:45:46.594753Z"
    }
   },
   "source": [
    "adn = 'agccgtaggctatttcgacgcaa'\n",
    "adn = 'tga' + adn\n",
    "print(adn)"
   ],
   "outputs": [
    {
     "name": "stdout",
     "output_type": "stream",
     "text": [
      "tgaagccgtaggctatttcgacgcaa\n"
     ]
    }
   ],
   "execution_count": 27
  },
  {
   "cell_type": "markdown",
   "id": "948d0d6d",
   "metadata": {
    "id": "948d0d6d"
   },
   "source": [
    "**Ajouter le fragment `ccc` à la fin de l'**"
   ]
  },
  {
   "cell_type": "code",
   "id": "3f7c707d",
   "metadata": {
    "colab": {
     "base_uri": "https://localhost:8080/",
     "height": 35
    },
    "executionInfo": {
     "elapsed": 424,
     "status": "ok",
     "timestamp": 1704882755026,
     "user": {
      "displayName": "Mouny Samy Modeliar",
      "userId": "02339464991922106836"
     },
     "user_tz": -60
    },
    "id": "3f7c707d",
    "outputId": "cc827774-2da0-451a-fbd9-ebbe0912efab",
    "ExecuteTime": {
     "end_time": "2024-04-18T08:45:46.604366Z",
     "start_time": "2024-04-18T08:45:46.601516Z"
    }
   },
   "source": [
    "adn = adn + 'ccc'\n",
    "print(adn)"
   ],
   "outputs": [
    {
     "name": "stdout",
     "output_type": "stream",
     "text": [
      "tgaagccgtaggctatttcgacgcaaccc\n"
     ]
    }
   ],
   "execution_count": 28
  },
  {
   "cell_type": "markdown",
   "id": "767f55d3",
   "metadata": {
    "id": "767f55d3"
   },
   "source": [
    "**Afficher la longueur de la nouvelle chaîne obtenue**"
   ]
  },
  {
   "cell_type": "code",
   "id": "e3559689",
   "metadata": {
    "colab": {
     "base_uri": "https://localhost:8080/"
    },
    "executionInfo": {
     "elapsed": 2,
     "status": "ok",
     "timestamp": 1704882763376,
     "user": {
      "displayName": "Mouny Samy Modeliar",
      "userId": "02339464991922106836"
     },
     "user_tz": -60
    },
    "id": "e3559689",
    "outputId": "c6c3f1b7-af42-4ddb-b774-9acaa95ee2d4",
    "ExecuteTime": {
     "end_time": "2024-04-18T08:45:46.610044Z",
     "start_time": "2024-04-18T08:45:46.605376Z"
    }
   },
   "source": "len(adn)",
   "outputs": [
    {
     "data": {
      "text/plain": [
       "29"
      ]
     },
     "execution_count": 29,
     "metadata": {},
     "output_type": "execute_result"
    }
   ],
   "execution_count": 29
  },
  {
   "cell_type": "markdown",
   "id": "97286e17",
   "metadata": {
    "id": "97286e17"
   },
   "source": [
    "**Afficher le pourcentage de a+t, en utilisant la fonction `adn.count()`**"
   ]
  },
  {
   "cell_type": "code",
   "id": "80b995db",
   "metadata": {
    "colab": {
     "base_uri": "https://localhost:8080/"
    },
    "executionInfo": {
     "elapsed": 325,
     "status": "ok",
     "timestamp": 1704882991119,
     "user": {
      "displayName": "Mouny Samy Modeliar",
      "userId": "02339464991922106836"
     },
     "user_tz": -60
    },
    "id": "80b995db",
    "outputId": "1579d16c-17f6-416c-efcf-2b2099614568",
    "ExecuteTime": {
     "end_time": "2024-04-18T08:45:46.615013Z",
     "start_time": "2024-04-18T08:45:46.611052Z"
    }
   },
   "source": "print(adn.count('a') + adn.count('t') / len(adn) * 100)",
   "outputs": [
    {
     "name": "stdout",
     "output_type": "stream",
     "text": [
      "27.689655172413794\n"
     ]
    }
   ],
   "execution_count": 30
  }
 ],
 "metadata": {
  "colab": {
   "provenance": []
  },
  "kernelspec": {
   "display_name": "Python 3 (ipykernel)",
   "language": "python",
   "name": "python3"
  },
  "language_info": {
   "codemirror_mode": {
    "name": "ipython",
    "version": 3
   },
   "file_extension": ".py",
   "mimetype": "text/x-python",
   "name": "python",
   "nbconvert_exporter": "python",
   "pygments_lexer": "ipython3",
   "version": "3.9.12"
  }
 },
 "nbformat": 4,
 "nbformat_minor": 5
}
