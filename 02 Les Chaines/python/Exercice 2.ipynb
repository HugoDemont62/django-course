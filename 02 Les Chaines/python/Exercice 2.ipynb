{
 "cells": [
  {
   "cell_type": "code",
   "id": "a6ec7c89",
   "metadata": {
    "id": "a6ec7c89",
    "ExecuteTime": {
     "end_time": "2024-04-18T09:47:21.574794Z",
     "start_time": "2024-04-18T09:47:21.571629Z"
    }
   },
   "source": [
    "codon='atg'"
   ],
   "outputs": [],
   "execution_count": 249
  },
  {
   "cell_type": "code",
   "id": "c0b76a91",
   "metadata": {
    "colab": {
     "base_uri": "https://localhost:8080/",
     "height": 35
    },
    "executionInfo": {
     "elapsed": 215,
     "status": "ok",
     "timestamp": 1704883194832,
     "user": {
      "displayName": "Mouny Samy Modeliar",
      "userId": "02339464991922106836"
     },
     "user_tz": -60
    },
    "id": "c0b76a91",
    "outputId": "24989095-8b8a-409b-b100-5c1973632ffe",
    "ExecuteTime": {
     "end_time": "2024-04-18T09:47:21.627573Z",
     "start_time": "2024-04-18T09:47:21.623838Z"
    }
   },
   "source": [
    "# 1) Attacher 3 codons à la suite\n",
    "print(codon*3)"
   ],
   "outputs": [
    {
     "name": "stdout",
     "output_type": "stream",
     "text": [
      "atgatgatg\n"
     ]
    }
   ],
   "execution_count": 250
  },
  {
   "cell_type": "code",
   "id": "c5563ee0",
   "metadata": {
    "id": "c5563ee0",
    "ExecuteTime": {
     "end_time": "2024-04-18T09:47:21.637501Z",
     "start_time": "2024-04-18T09:47:21.633670Z"
    }
   },
   "source": [
    "seq1 = 'agcgccttgaattcggcaccaggcaaatctcaaggagaagttccggggagaaggtgaaga'\n",
    "seq2 = 'cggggagtggggagttgagtcgcaagatgagcgagcggatgtccactatgagcgataata'\n",
    "\n",
    "# 2) Concaténer les deux séquences dans la variable seq\n",
    "seq = seq1 + seq2\n",
    "print(seq)\n"
   ],
   "outputs": [
    {
     "name": "stdout",
     "output_type": "stream",
     "text": [
      "agcgccttgaattcggcaccaggcaaatctcaaggagaagttccggggagaaggtgaagacggggagtggggagttgagtcgcaagatgagcgagcggatgtccactatgagcgataata\n"
     ]
    }
   ],
   "execution_count": 251
  },
  {
   "cell_type": "code",
   "id": "c2bb621f",
   "metadata": {
    "id": "c2bb621f",
    "ExecuteTime": {
     "end_time": "2024-04-18T09:47:21.650262Z",
     "start_time": "2024-04-18T09:47:21.646507Z"
    }
   },
   "source": [
    "# 3) Donner la longueur de la nouvelle séquence\n",
    "len(seq)"
   ],
   "outputs": [
    {
     "data": {
      "text/plain": [
       "120"
      ]
     },
     "execution_count": 252,
     "metadata": {},
     "output_type": "execute_result"
    }
   ],
   "execution_count": 252
  },
  {
   "cell_type": "code",
   "id": "f76798eb",
   "metadata": {
    "colab": {
     "base_uri": "https://localhost:8080/"
    },
    "executionInfo": {
     "elapsed": 206,
     "status": "ok",
     "timestamp": 1704883448891,
     "user": {
      "displayName": "Mouny Samy Modeliar",
      "userId": "02339464991922106836"
     },
     "user_tz": -60
    },
    "id": "f76798eb",
    "outputId": "ad93c26e-d975-4206-89c1-91d1f913f449",
    "ExecuteTime": {
     "end_time": "2024-04-18T09:47:21.659699Z",
     "start_time": "2024-04-18T09:47:21.656269Z"
    }
   },
   "source": [
    "# 4) La séquence seq contient-elle la base non-définie n\n",
    "print('n' in seq)"
   ],
   "outputs": [
    {
     "name": "stdout",
     "output_type": "stream",
     "text": [
      "False\n"
     ]
    }
   ],
   "execution_count": 253
  },
  {
   "cell_type": "code",
   "id": "e550a751",
   "metadata": {
    "id": "e550a751",
    "ExecuteTime": {
     "end_time": "2024-04-18T09:47:21.673134Z",
     "start_time": "2024-04-18T09:47:21.669706Z"
    }
   },
   "source": [
    "# 5) Contient-elle la base adenine ?\n",
    "print('a' in seq)"
   ],
   "outputs": [
    {
     "name": "stdout",
     "output_type": "stream",
     "text": [
      "True\n"
     ]
    }
   ],
   "execution_count": 254
  },
  {
   "cell_type": "code",
   "id": "11effab3",
   "metadata": {
    "id": "11effab3",
    "ExecuteTime": {
     "end_time": "2024-04-18T09:47:21.687261Z",
     "start_time": "2024-04-18T09:47:21.684143Z"
    }
   },
   "source": [
    "# 6) Quelle est la base se trouvant en position 2 dans la séquence seq\n",
    "print(seq[1])"
   ],
   "outputs": [
    {
     "name": "stdout",
     "output_type": "stream",
     "text": [
      "g\n"
     ]
    }
   ],
   "execution_count": 255
  },
  {
   "cell_type": "code",
   "id": "17c91aa9",
   "metadata": {
    "id": "17c91aa9",
    "ExecuteTime": {
     "end_time": "2024-04-18T09:47:21.697862Z",
     "start_time": "2024-04-18T09:47:21.694302Z"
    }
   },
   "source": [
    "# 7) Afficher la 12iéme base.\n",
    "print(seq[11]) # 11 car le premier élément est à l'index 0\n"
   ],
   "outputs": [
    {
     "name": "stdout",
     "output_type": "stream",
     "text": [
      "t\n"
     ]
    }
   ],
   "execution_count": 256
  },
  {
   "cell_type": "code",
   "id": "45cffc1b",
   "metadata": {
    "id": "45cffc1b",
    "ExecuteTime": {
     "end_time": "2024-04-18T09:47:21.728194Z",
     "start_time": "2024-04-18T09:47:21.724254Z"
    }
   },
   "source": [
    "# 8) Trouver l'index du dernier caractère\n",
    "print(seq[-1])"
   ],
   "outputs": [
    {
     "name": "stdout",
     "output_type": "stream",
     "text": [
      "a\n"
     ]
    }
   ],
   "execution_count": 257
  },
  {
   "cell_type": "code",
   "id": "8e5b3842",
   "metadata": {
    "id": "8e5b3842",
    "ExecuteTime": {
     "end_time": "2024-04-18T09:47:21.743616Z",
     "start_time": "2024-04-18T09:47:21.740202Z"
    }
   },
   "source": [
    "# 9) Afficher la derniére base à l'aide de plusieurs méthodes\n",
    "print(seq[len(seq)-1])\n",
    "print(seq[-1])"
   ],
   "outputs": [
    {
     "name": "stdout",
     "output_type": "stream",
     "text": [
      "a\n",
      "a\n"
     ]
    }
   ],
   "execution_count": 258
  },
  {
   "cell_type": "code",
   "id": "d8bb8863",
   "metadata": {
    "id": "d8bb8863",
    "ExecuteTime": {
     "end_time": "2024-04-18T09:47:21.755943Z",
     "start_time": "2024-04-18T09:47:21.752624Z"
    }
   },
   "source": [
    "#  10) Déterminer le premier codon de la séquence par plusieurs méthodes\n",
    "print(seq[0:3])"
   ],
   "outputs": [
    {
     "name": "stdout",
     "output_type": "stream",
     "text": [
      "agc\n"
     ]
    }
   ],
   "execution_count": 259
  },
  {
   "cell_type": "code",
   "id": "9b46775f",
   "metadata": {
    "id": "9b46775f",
    "ExecuteTime": {
     "end_time": "2024-04-18T09:47:21.766988Z",
     "start_time": "2024-04-18T09:47:21.762987Z"
    }
   },
   "source": [
    "# 11) Déterminer le second codon de la séquence\n",
    "print(seq[3:6])"
   ],
   "outputs": [
    {
     "name": "stdout",
     "output_type": "stream",
     "text": [
      "gcc\n"
     ]
    }
   ],
   "execution_count": 260
  },
  {
   "cell_type": "code",
   "id": "fa4ea789",
   "metadata": {
    "id": "fa4ea789",
    "ExecuteTime": {
     "end_time": "2024-04-18T09:47:21.785506Z",
     "start_time": "2024-04-18T09:47:21.782030Z"
    }
   },
   "source": [
    "# 12) Déterminer le dernier codon de la séquence\n",
    "print(seq[-3:])"
   ],
   "outputs": [
    {
     "name": "stdout",
     "output_type": "stream",
     "text": [
      "ata\n"
     ]
    }
   ],
   "execution_count": 261
  },
  {
   "cell_type": "code",
   "id": "06a465eb",
   "metadata": {
    "id": "06a465eb",
    "ExecuteTime": {
     "end_time": "2024-04-18T09:47:21.802576Z",
     "start_time": "2024-04-18T09:47:21.798512Z"
    }
   },
   "source": [
    "# 13) Combien d'éléments de chaque base la séquence contient-elle ?\n",
    "print(seq.count('a'))\n",
    "print(seq.count('t'))\n",
    "print(seq.count('c'))\n",
    "print(seq.count('g'))\n",
    "print(seq.count('n'))"
   ],
   "outputs": [
    {
     "name": "stdout",
     "output_type": "stream",
     "text": [
      "35\n",
      "20\n",
      "21\n",
      "44\n",
      "0\n"
     ]
    }
   ],
   "execution_count": 262
  },
  {
   "metadata": {
    "ExecuteTime": {
     "end_time": "2024-04-18T09:47:21.823087Z",
     "start_time": "2024-04-18T09:47:21.818586Z"
    }
   },
   "cell_type": "code",
   "source": [
    "# 14) Déterminer le pourcentage de chaque base dans la séquence\n",
    "# Exemple pour l'adenine\n",
    "\n",
    "# 29.166666666666668 %\n",
    "\n",
    "adenine = seq.count('a')/len(seq)*100\n",
    "thymin = seq.count('t')/len(seq)*100\n",
    "cytosine = seq.count('c')/len(seq)*100\n",
    "guanine = seq.count('g')/len(seq)*100\n",
    "non_definie = seq.count('n')/len(seq)*100\n",
    "\n",
    "adn = [adenine, thymin, cytosine, guanine, non_definie]\n",
    "print(\"Pourcentage de l'adenine : {:.2f} % Pourcentage de la thymin : {:.2f} % Pourcentage de la cytosine : {:.2f} % Pourcentage de la guanine : {:.2f} % Pourcentage de la base non définie : {:.2f} %\".format(adn[0], adn[1], adn[2], adn[3], adn[4]))\n"
   ],
   "id": "71ce4be58a0702e9",
   "outputs": [
    {
     "name": "stdout",
     "output_type": "stream",
     "text": [
      "Pourcentage de l'adenine : 29.17 % Pourcentage de la thymin : 16.67 % Pourcentage de la cytosine : 17.50 % Pourcentage de la guanine : 36.67 % Pourcentage de la base non définie : 0.00 %\n"
     ]
    }
   ],
   "execution_count": 263
  },
  {
   "cell_type": "markdown",
   "id": "af1d9dea",
   "metadata": {
    "id": "af1d9dea"
   },
   "source": [
    "A présent, essayons de trouver une expression spécifique dans la séquence `dna1`"
   ]
  },
  {
   "cell_type": "code",
   "id": "f888d26a",
   "metadata": {
    "id": "f888d26a",
    "ExecuteTime": {
     "end_time": "2024-04-18T09:47:21.849130Z",
     "start_time": "2024-04-18T09:47:21.845135Z"
    }
   },
   "source": [
    "dna1='tgaattctatgaatggactgtccccaaagaagtaggacccactaatgcagatcctggatccctagctaagatgtattattctgctgtgaattcgatcccactaaaga'\n",
    "\n",
    "EcoRI = 'GAATTC'\n",
    "BamHI = 'GGATCC'\n",
    "\n",
    "print(dna1.count(EcoRI.lower()))\n",
    "print(dna1.count(BamHI.lower()))"
   ],
   "outputs": [
    {
     "name": "stdout",
     "output_type": "stream",
     "text": [
      "2\n",
      "1\n"
     ]
    }
   ],
   "execution_count": 264
  },
  {
   "cell_type": "markdown",
   "id": "51ab6795",
   "metadata": {
    "id": "51ab6795"
   },
   "source": [
    "En observant la séquence, on se rend compte que EcoRI est présent à 2 reprises et que BamHI à 1 reprise.\n",
    "**t<font color='red'>gaattc</font>tatgaatggactgtccccaaagaagtaggacccactaatgcagatcct<font color='blue'>ggatcc</font>ctagctaagatgtattattctgctgt<font color='blue'>gaattc</font>gatcccactaaaga**"
   ]
  },
  {
   "cell_type": "code",
   "id": "7c56dbb8",
   "metadata": {
    "colab": {
     "base_uri": "https://localhost:8080/"
    },
    "executionInfo": {
     "elapsed": 203,
     "status": "ok",
     "timestamp": 1704892039449,
     "user": {
      "displayName": "Wassim K",
      "userId": "03419467172153518869"
     },
     "user_tz": -60
    },
    "id": "7c56dbb8",
    "outputId": "d573d37c-3256-4452-99e0-86590a296c85",
    "ExecuteTime": {
     "end_time": "2024-04-18T09:47:21.864556Z",
     "start_time": "2024-04-18T09:47:21.860173Z"
    }
   },
   "source": [
    "# 15) Compter le nombre d'apparitions des gènes EcoRI, BamHIdna1='tgaattctatgaatggactgtccccaaagaagtaggacccactaatgcagatcctggatccctagctaagatgtattattctgctgtgaattcgatcccactaaaga'\n",
    "dna1='tgaattctatgaatggactgtccccaaagaagtaggacccactaatgcagatcctggatccctagctaagatgtattattctgctgtgaattcgatcccactaaaga'\n",
    "EcoRI='GAATTC'.lower()\n",
    "BamHI='GGATCC'.lower()\n",
    "\n",
    "print(dna1.count(EcoRI))\n",
    "print(dna1.count(BamHI))\n",
    "\n",
    "# Indiquer à quels index ils apparaisdn\n",
    "print(dna1.find(EcoRI))\n",
    "print(dna1.find(BamHI))"
   ],
   "outputs": [
    {
     "name": "stdout",
     "output_type": "stream",
     "text": [
      "2\n",
      "1\n",
      "1\n",
      "55\n"
     ]
    }
   ],
   "execution_count": 265
  },
  {
   "cell_type": "code",
   "id": "f3c404bd",
   "metadata": {
    "colab": {
     "base_uri": "https://localhost:8080/",
     "height": 140
    },
    "executionInfo": {
     "elapsed": 236,
     "status": "error",
     "timestamp": 1704892142731,
     "user": {
      "displayName": "Wassim K",
      "userId": "03419467172153518869"
     },
     "user_tz": -60
    },
    "id": "f3c404bd",
    "outputId": "21d0b5b0-4598-4c41-9125-f617acaddc03",
    "ExecuteTime": {
     "end_time": "2024-04-18T09:47:21.875244Z",
     "start_time": "2024-04-18T09:47:21.871564Z"
    }
   },
   "source": [
    "# 16) Un rapide coup d'oeil à la séquence ci-dessous montre la présence des caractéres \\n\n",
    "dna2='tgaattctatgaatggactgtccccaaagaagtaggacccactaatgcagatcctgga\\ntccctagctaagatgtattattctgctgtgaattcgatcccactaaagat'\n",
    "\n",
    "\n",
    "# Comment supprimer \\n\n",
    "format = dna2.replace('\\n', '')\n",
    "print(format)\n",
    "print(format.count('\\n'))"
   ],
   "outputs": [
    {
     "name": "stdout",
     "output_type": "stream",
     "text": [
      "tgaattctatgaatggactgtccccaaagaagtaggacccactaatgcagatcctggatccctagctaagatgtattattctgctgtgaattcgatcccactaaagat\n",
      "0\n"
     ]
    }
   ],
   "execution_count": 266
  }
 ],
 "metadata": {
  "colab": {
   "provenance": []
  },
  "kernelspec": {
   "display_name": "Python 3 (ipykernel)",
   "language": "python",
   "name": "python3"
  },
  "language_info": {
   "codemirror_mode": {
    "name": "ipython",
    "version": 3
   },
   "file_extension": ".py",
   "mimetype": "text/x-python",
   "name": "python",
   "nbconvert_exporter": "python",
   "pygments_lexer": "ipython3",
   "version": "3.9.12"
  }
 },
 "nbformat": 4,
 "nbformat_minor": 5
}
