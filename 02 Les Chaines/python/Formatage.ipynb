{
 "cells": [
  {
   "cell_type": "markdown",
   "id": "5cc0a568",
   "metadata": {},
   "source": [
    "#  Ecriture formatée"
   ]
  },
  {
   "cell_type": "code",
   "execution_count": 2,
   "id": "cb7f7555",
   "metadata": {},
   "outputs": [],
   "source": [
    "a = 22.0001221\n",
    "b = 30.0022112"
   ]
  },
  {
   "cell_type": "markdown",
   "id": "22e5c36f",
   "metadata": {},
   "source": [
    "Deux manières d'insérer des variables dans une chaîne de caractères:"
   ]
  },
  {
   "cell_type": "code",
   "execution_count": 3,
   "id": "d87ec4e4",
   "metadata": {
    "scrolled": true
   },
   "outputs": [
    {
     "name": "stdout",
     "output_type": "stream",
     "text": [
      "La température est de 22.0 °C le matin et 30.0 °C l'après-midi\n",
      "La température est de 30.0 °C le matin et 22.0 °C l'après-midi\n",
      "La température est de     22.00 °C le matin et    30.002 °C l'après-midi\n"
     ]
    }
   ],
   "source": [
    "print('La température est de {:.1f} °C le matin et {:.1f} °C l\\'après-midi'.format(a,b))\n",
    "# L'ajout des index permet de choisir l'ordre d'écriture\n",
    "print('La température est de {1:.1f} °C le matin et {0:.1f} °C l\\'après-midi'.format(a,b))\n",
    "# Ou\n",
    "print('La température est de %9.2f °C le matin et %9.3f °C l\\'après-midi'%(a, b))"
   ]
  },
  {
   "cell_type": "markdown",
   "id": "bbeb8e7a",
   "metadata": {},
   "source": [
    "# Exercice: Conversion de température\n",
    "\n",
    "On cherche à convertir en Kelvin ou en fahrenheit une température d'entrée donnée en Celsius."
   ]
  },
  {
   "cell_type": "code",
   "execution_count": null,
   "id": "36acad64",
   "metadata": {},
   "outputs": [],
   "source": [
    "# 1) Choisir un nombre entier aléatoire entre -25 et +45\n",
    "# on pourra choisir la méthode random ou randint\n",
    "from random import random, randint\n",
    "# random.random est un nombre aléatoire compris entre 0 et 1\n",
    "# random.randint(a,b) est un nombre aléatoire compris entre a et b\n",
    "\n"
   ]
  },
  {
   "cell_type": "code",
   "execution_count": null,
   "id": "dafc632e",
   "metadata": {},
   "outputs": [],
   "source": [
    "# 2) Conversion en Kelvin K=273.15 +C\n"
   ]
  },
  {
   "cell_type": "code",
   "execution_count": null,
   "id": "f9d865e7",
   "metadata": {},
   "outputs": [],
   "source": [
    "# 3) Conversion en Fahrenheit F=(9/5)*C+32\n"
   ]
  },
  {
   "cell_type": "code",
   "execution_count": null,
   "id": "601bc139",
   "metadata": {},
   "outputs": [],
   "source": [
    "# 4 Réaliser un affichage des résultats au format ci-dessous\n",
    "print('Celsius    | Kelvin       | Fahrenheit |')\n",
    "# 2 décimales, 3 décimales, 2 décimales\n"
   ]
  },
  {
   "cell_type": "code",
   "execution_count": null,
   "id": "f3a626ba",
   "metadata": {},
   "outputs": [],
   "source": []
  }
 ],
 "metadata": {
  "kernelspec": {
   "display_name": "Python 3 (ipykernel)",
   "language": "python",
   "name": "python3"
  },
  "language_info": {
   "codemirror_mode": {
    "name": "ipython",
    "version": 3
   },
   "file_extension": ".py",
   "mimetype": "text/x-python",
   "name": "python",
   "nbconvert_exporter": "python",
   "pygments_lexer": "ipython3",
   "version": "3.9.12"
  }
 },
 "nbformat": 4,
 "nbformat_minor": 5
}
