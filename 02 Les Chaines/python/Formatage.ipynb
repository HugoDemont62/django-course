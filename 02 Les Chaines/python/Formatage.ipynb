{
 "cells": [
  {
   "cell_type": "markdown",
   "id": "5cc0a568",
   "metadata": {},
   "source": [
    "#  Ecriture formatée"
   ]
  },
  {
   "cell_type": "code",
   "id": "cb7f7555",
   "metadata": {},
   "source": [
    "a = 22.0001221\n",
    "b = 30.0022112"
   ],
   "outputs": [],
   "execution_count": null
  },
  {
   "cell_type": "markdown",
   "id": "22e5c36f",
   "metadata": {},
   "source": [
    "Deux manières d'insérer des variables dans une chaîne de caractères:"
   ]
  },
  {
   "cell_type": "code",
   "id": "d87ec4e4",
   "metadata": {
    "scrolled": true
   },
   "source": [
    "print('La température est de {:.1f} °C le matin et {:.1f} °C l\\'après-midi'.format(a,b))\n",
    "# L'ajout des index permet de choisir l'ordre d'écriture\n",
    "print('La température est de {1:.1f} °C le matin et {0:.1f} °C l\\'après-midi'.format(a,b))\n",
    "# Ou\n",
    "print('La température est de %9.2f °C le matin et %9.3f °C l\\'après-midi'%(a, b))"
   ],
   "outputs": [],
   "execution_count": null
  },
  {
   "cell_type": "markdown",
   "id": "bbeb8e7a",
   "metadata": {},
   "source": [
    "# Exercice: Conversion de température\n",
    "\n",
    "On cherche à convertir en Kelvin ou en fahrenheit une température d'entrée donnée en Celsius."
   ]
  },
  {
   "cell_type": "code",
   "id": "36acad64",
   "metadata": {},
   "source": [
    "# 1) Choisir un nombre entier aléatoire entre -25 et +45\n",
    "# on pourra choisir la méthode random ou randint\n",
    "from random import random, randint\n",
    "# random.random est un nombre aléatoire compris entre 0 et 1\n",
    "# random.randint(a,b) est un nombre aléatoire compris entre a et b\n",
    "\n",
    "celcius = randint(-25,45)\n",
    "# ou\n",
    "#random()*70-25\n",
    "\n",
    "print('La température est de {:.1f} °C le matin et {:.1f} °C l\\'après-midi'.format(a,b))\n"
   ],
   "outputs": [],
   "execution_count": null
  },
  {
   "cell_type": "code",
   "id": "dafc632e",
   "metadata": {},
   "source": [
    "# 2) Conversion en Kelvin K=273.15 +C\n",
    "\n",
    "kelvin = 273.15 + celcius\n",
    "print('La température est de {:.1f} K'.format(kelvin))"
   ],
   "outputs": [],
   "execution_count": null
  },
  {
   "cell_type": "code",
   "id": "f9d865e7",
   "metadata": {},
   "source": [
    "# 3) Conversion en Fahrenheit F=(9/5)*C+32\n",
    "fahrenheit = (9/5)*celcius+32\n",
    "print('La température est de {:.1f} °F'.format(fahrenheit))\n"
   ],
   "outputs": [],
   "execution_count": null
  },
  {
   "cell_type": "code",
   "id": "601bc139",
   "metadata": {
    "ExecuteTime": {
     "end_time": "2024-04-18T09:49:50.304536Z",
     "start_time": "2024-04-18T09:49:50.300228Z"
    }
   },
   "source": [
    "# 4 Réaliser un affichage des résultats au format ci-dessous\n",
    "print('Celsius    | Kelvin       | Fahrenheit |')\n",
    "print('{:9.2f} | {:9.2f} | {:9.2f} |'.format(celcius, kelvin, fahrenheit))\n",
    "# 2 décimales, 3 décimales, 2 décimales\n"
   ],
   "outputs": [
    {
     "name": "stdout",
     "output_type": "stream",
     "text": [
      "Celsius    | Kelvin       | Fahrenheit |\n",
      "     4.00 |    277.15 |     39.20 |\n"
     ]
    }
   ],
   "execution_count": 50
  }
 ],
 "metadata": {
  "kernelspec": {
   "display_name": "Python 3 (ipykernel)",
   "language": "python",
   "name": "python3"
  },
  "language_info": {
   "codemirror_mode": {
    "name": "ipython",
    "version": 3
   },
   "file_extension": ".py",
   "mimetype": "text/x-python",
   "name": "python",
   "nbconvert_exporter": "python",
   "pygments_lexer": "ipython3",
   "version": "3.9.12"
  }
 },
 "nbformat": 4,
 "nbformat_minor": 5
}
