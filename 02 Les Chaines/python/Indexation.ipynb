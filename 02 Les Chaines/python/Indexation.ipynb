{
 "cells": [
  {
   "cell_type": "markdown",
   "id": "048920c0",
   "metadata": {},
   "source": [
    "# Indexation"
   ]
  },
  {
   "cell_type": "code",
   "execution_count": 16,
   "id": "e942c523",
   "metadata": {},
   "outputs": [
    {
     "name": "stdout",
     "output_type": "stream",
     "text": [
      "agccgtaggctatttcgacgcaa \u0007\n"
     ]
    }
   ],
   "source": [
    "print(\"agccgtaggctatttcgacgcaa \\a\")"
   ]
  },
  {
   "cell_type": "code",
   "execution_count": 17,
   "id": "269fc629",
   "metadata": {},
   "outputs": [
    {
     "name": "stdout",
     "output_type": "stream",
     "text": [
      "agccgtaggctatttcgacgcaa \\a\n"
     ]
    }
   ],
   "source": [
    "print(r\"agccgtaggctatttcgacgcaa \\a\")"
   ]
  },
  {
   "cell_type": "code",
   "execution_count": 27,
   "id": "605360af",
   "metadata": {},
   "outputs": [
    {
     "name": "stdout",
     "output_type": "stream",
     "text": [
      "False\n"
     ]
    }
   ],
   "source": [
    "chaine = \"tototol\"\n",
    "print(\"ti\" in chaine)"
   ]
  },
  {
   "cell_type": "code",
   "execution_count": 2,
   "id": "24973878",
   "metadata": {},
   "outputs": [
    {
     "name": "stdout",
     "output_type": "stream",
     "text": [
      "Mot: Dixlettres\n",
      "Jusquà l'index 2 Di\n",
      "De l'index 2 à après xlettres\n",
      "Jusqu'à l'index -2 Dixlettr\n",
      "De l'index -2 à après es\n",
      "Par pas de 3 Dlt\n",
      "Par pas de 2 Dxete\n",
      "Inversion de la chaine serttelxiD\n"
     ]
    }
   ],
   "source": [
    "# Slicing\n",
    "\n",
    "print(\"Mot:\",mot)\n",
    "# Jusqu'à l'index 2\n",
    "print(\"Jusquà l'index 2:\",mot[:2])\n",
    "# De l'index 2 à après\n",
    "print(\"De l'index 2 à après:\",mot[2:])\n",
    "# Jusqu'à l'index -2\n",
    "print(\"Jusqu'à l'index -2:\",mot[:-2])\n",
    "# De l'index -2 à après\n",
    "print(\"De l'index -2 à après:\",mot[-2:])\n",
    "# Par pas de 3\n",
    "print(\"Par pas de 3:\",mot[0:-1:3])\n",
    "# Par pas de 2\n",
    "print(\"Par pas de 2:\",mot[::2])\n",
    "# Inversion de la chaine\n",
    "print(\"Inversion de la chaine:\",mot[::-1])"
   ]
  },
  {
   "cell_type": "markdown",
   "id": "39d98dd3",
   "metadata": {},
   "source": [
    "# Méthodes attachées aux chaînes de caractères"
   ]
  },
  {
   "cell_type": "code",
   "execution_count": 30,
   "id": "2e4b7368",
   "metadata": {},
   "outputs": [
    {
     "name": "stdout",
     "output_type": "stream",
     "text": [
      "Mot: Dixlettres\n",
      "               Dixlettres               \n",
      "Nombre de e dans le mot: 2\n",
      "Nombre de d dans le mot: 1\n"
     ]
    }
   ],
   "source": [
    "print(\"Mot:\",mot)\n",
    "print(mot.center(40))\n",
    "print(\"Nombre de e dans le mot:\",mot.count('e'))\n",
    "print(\"Nombre de d dans le mot:\",mot.count('D'))"
   ]
  },
  {
   "cell_type": "markdown",
   "id": "9eae5cad",
   "metadata": {},
   "source": [
    "La méthode `ljust` (resp `rjust`) permet de compléter à gauche (resp à droite) une chaîne de carcatères avec un caractère donné."
   ]
  },
  {
   "cell_type": "code",
   "execution_count": 10,
   "id": "048afea0",
   "metadata": {},
   "outputs": [
    {
     "name": "stdout",
     "output_type": "stream",
     "text": [
      "Dixlettres.......... | \n",
      " 45..................\n"
     ]
    }
   ],
   "source": [
    "print(mot.ljust(20,'.'),'|','\\n','45'.ljust(20,'.'))"
   ]
  },
  {
   "cell_type": "code",
   "execution_count": 35,
   "id": "2440963d",
   "metadata": {},
   "outputs": [
    {
     "name": "stdout",
     "output_type": "stream",
     "text": [
      "00000012\n"
     ]
    }
   ],
   "source": [
    "c = \"12\"\n",
    "print(c.rjust(8,'0'))"
   ]
  },
  {
   "cell_type": "code",
   "execution_count": 13,
   "id": "9df7a4b7",
   "metadata": {},
   "outputs": [
    {
     "name": "stdout",
     "output_type": "stream",
     "text": [
      "La température est de 37.2 °C\n",
      "Se finit par °C ? True\n",
      "Où se trouve ° ? 27\n"
     ]
    }
   ],
   "source": [
    "donnee='La température est de 37.2 °C'\n",
    "print(donnee)\n",
    "print(\"Se finit par °C ?\",donnee.endswith('°C'))\n",
    "print(\"Où se trouve ° ?\",donnee.find('°'))"
   ]
  },
  {
   "cell_type": "code",
   "execution_count": 39,
   "id": "6fc8fd99",
   "metadata": {},
   "outputs": [
    {
     "name": "stdout",
     "output_type": "stream",
     "text": [
      "Mot: Dixlettres\n",
      "Indice de D: 0\n",
      "Indice de d: 5\n",
      "On replace D par d dixlettres\n",
      "On replace D par d DixleLLres\n"
     ]
    }
   ],
   "source": [
    "print(\"Mot:\",mot)\n",
    "print(\"Indice de D:\",mot.index('D'))\n",
    "print(\"Indice de d:\",mot.find('t')) # sensible à la casse\n",
    "print(\"On replace D par d\",mot.replace('D','d'))\n",
    "print(\"On replace D par d\",mot.replace('t','L'))"
   ]
  }
 ],
 "metadata": {
  "kernelspec": {
   "display_name": "Python 3 (ipykernel)",
   "language": "python",
   "name": "python3"
  },
  "language_info": {
   "codemirror_mode": {
    "name": "ipython",
    "version": 3
   },
   "file_extension": ".py",
   "mimetype": "text/x-python",
   "name": "python",
   "nbconvert_exporter": "python",
   "pygments_lexer": "ipython3",
   "version": "3.9.12"
  }
 },
 "nbformat": 4,
 "nbformat_minor": 5
}
