{
 "cells": [
  {
   "cell_type": "markdown",
   "id": "78i1AZS20eG-",
   "metadata": {
    "id": "78i1AZS20eG-"
   },
   "source": [
    "# intro"
   ]
  },
  {
   "cell_type": "markdown",
   "id": "d63d842c",
   "metadata": {
    "id": "d63d842c"
   },
   "source": [
    "# Exercice 1\n",
    "Dans cet exercice, nous stockons une playliste dans un dictionnaire"
   ]
  },
  {
   "cell_type": "code",
   "id": "7cfd2780",
   "metadata": {
    "id": "7cfd2780",
    "ExecuteTime": {
     "end_time": "2024-04-18T10:08:56.601228Z",
     "start_time": "2024-04-18T10:08:56.597552Z"
    }
   },
   "source": [
    "playlist = {'Artiste': ['Jagger', 'Aznavour', 'Peyroux', 'Marley', 'Chedid', 'King'],\n",
    "            'Titre': ['Satisfaction', 'Mes emmerdes', 'Smile', 'Jamming', 'Superchérie', 'Lucille'],\n",
    "            'Durée': [3.2, 4.2, 2.9, 3.7, 3.1, 2.8], 'Année': [1965, 1976, 2006, 1978, 2019, 1968]}"
   ],
   "outputs": [],
   "execution_count": 72
  },
  {
   "cell_type": "markdown",
   "id": "23b18770",
   "metadata": {
    "id": "23b18770"
   },
   "source": [
    "**1) Pour le troisième artiste de la liste donnez sous forme de chaine de charactère les informations suivantes:**\n",
    "\n",
    "*Le troisième artiste de la playslist est 'artiste', sa chanson est 'Titre' créée en 'Année' et sa chanson a une durée de 'Durée' minutes'*"
   ]
  },
  {
   "cell_type": "code",
   "id": "0b0a07f1",
   "metadata": {
    "id": "0b0a07f1",
    "outputId": "7cf8ce80-800b-47f8-ab8b-57b8ee442501",
    "ExecuteTime": {
     "end_time": "2024-04-18T10:08:56.621654Z",
     "start_time": "2024-04-18T10:08:56.617234Z"
    }
   },
   "source": [
    "# indiceArtiste = 2\n",
    "artistes = playlist['Artiste']\n",
    "print(\"Liste des artistes\", artistes)\n",
    "\n",
    "indiceArtiste = 2\n",
    "nomArtiste = artistes[indiceArtiste]\n",
    "print(\"Nom du troisième artiste:\", nomArtiste)\n",
    "\n",
    "chansonArtiste = playlist['Titre'][indiceArtiste]\n",
    "annee = playlist['Année'][indiceArtiste]\n",
    "duree = playlist['Durée'][indiceArtiste]\n",
    "\n",
    "texte = \"Le troisième artiste de la playslist est {}, sa chanson est {} créée en {} et sa chanson a une durée de {} minutes\".format(\n",
    "    nomArtiste, chansonArtiste, annee, duree)\n",
    "\n",
    "print(texte)"
   ],
   "outputs": [
    {
     "name": "stdout",
     "output_type": "stream",
     "text": [
      "Liste des artistes ['Jagger', 'Aznavour', 'Peyroux', 'Marley', 'Chedid', 'King']\n",
      "Nom du troisième artiste: Peyroux\n",
      "Le troisième artiste de la playslist est Peyroux, sa chanson est Smile créée en 2006 et sa chanson a une durée de 2.9 minutes\n"
     ]
    }
   ],
   "execution_count": 73
  },
  {
   "cell_type": "code",
   "id": "4734d4f3",
   "metadata": {
    "id": "4734d4f3",
    "outputId": "b804ebee-85dd-4112-9ffa-d2e9a7e85276",
    "ExecuteTime": {
     "end_time": "2024-04-18T10:08:56.660092Z",
     "start_time": "2024-04-18T10:08:56.655662Z"
    }
   },
   "source": [
    "indiceArtiste = 1\n",
    "\n",
    "artistes = playlist['Artiste']\n",
    "nomArtiste = artistes[indiceArtiste]\n",
    "\n",
    "chansonArtiste = playlist['Titre'][indiceArtiste]\n",
    "annee = playlist['Année'][indiceArtiste]\n",
    "duree = playlist['Durée'][indiceArtiste]\n",
    "\n",
    "texte = \"Le troisième artiste de la playslist est {}, sa chanson est {} créée en {} et sa chanson a une durée de {} minutes\".format(\n",
    "    nomArtiste, chansonArtiste, annee, duree)\n",
    "\n",
    "print(texte)"
   ],
   "outputs": [
    {
     "name": "stdout",
     "output_type": "stream",
     "text": [
      "Le troisième artiste de la playslist est Aznavour, sa chanson est Mes emmerdes créée en 1976 et sa chanson a une durée de 4.2 minutes\n"
     ]
    }
   ],
   "execution_count": 74
  },
  {
   "cell_type": "markdown",
   "id": "b3e17a97",
   "metadata": {
    "id": "b3e17a97"
   },
   "source": [
    "**2) A l'aide de la fonction `input` proposer à l'utilisateur de choisir un artiste, et donner le résultat\n",
    "comme pour la question précédente**"
   ]
  },
  {
   "cell_type": "code",
   "id": "bd5ce28c",
   "metadata": {
    "id": "bd5ce28c",
    "outputId": "3236194a-acd2-4e35-85de-e087046f0a11",
    "ExecuteTime": {
     "end_time": "2024-04-18T10:08:56.673487Z",
     "start_time": "2024-04-18T10:08:56.669100Z"
    }
   },
   "source": [
    "artistes = playlist['Artiste']\n",
    "#nomArtiste = input(\"Choisir un artiste dans liste {}\".format(artistes))\n",
    "\n",
    "indiceArtiste = artistes.index(nomArtiste)\n",
    "\n",
    "artistes = playlist['Artiste']\n",
    "nomArtiste = artistes[indiceArtiste]\n",
    "chansonArtiste = playlist['Titre'][indiceArtiste]\n",
    "annee = playlist['Année'][indiceArtiste]\n",
    "duree = playlist['Durée'][indiceArtiste]\n",
    "\n",
    "texte = \"Le troisième artiste de la playslist est {}, sa chanson est {} créée en {} et sa chanson a une durée de {} minutes\".format(\n",
    "    nomArtiste, chansonArtiste, annee, duree)\n",
    "\n",
    "print(texte)"
   ],
   "outputs": [
    {
     "name": "stdout",
     "output_type": "stream",
     "text": [
      "Le troisième artiste de la playslist est Aznavour, sa chanson est Mes emmerdes créée en 1976 et sa chanson a une durée de 4.2 minutes\n"
     ]
    }
   ],
   "execution_count": 75
  },
  {
   "cell_type": "markdown",
   "id": "c1172c0e",
   "metadata": {
    "id": "c1172c0e"
   },
   "source": [
    "**3) Créer une liste aléatoire de titres à partir des titres donnés.**"
   ]
  },
  {
   "cell_type": "code",
   "id": "86d8fd2f",
   "metadata": {
    "id": "86d8fd2f",
    "outputId": "c5b449ba-eb90-49d0-9d96-3ad52ce3ce1b",
    "ExecuteTime": {
     "end_time": "2024-04-18T10:08:56.679241Z",
     "start_time": "2024-04-18T10:08:56.675496Z"
    }
   },
   "source": [
    "import random as rd\n",
    "\n",
    "playlistRandom = playlist['Titre'].copy()\n",
    "print(playlistRandom)\n",
    "# a completer pour melanger la liste\n",
    "rd.shuffle(playlistRandom)\n",
    "print(playlistRandom)"
   ],
   "outputs": [
    {
     "name": "stdout",
     "output_type": "stream",
     "text": [
      "['Satisfaction', 'Mes emmerdes', 'Smile', 'Jamming', 'Superchérie', 'Lucille']\n",
      "['Smile', 'Satisfaction', 'Jamming', 'Mes emmerdes', 'Superchérie', 'Lucille']\n"
     ]
    }
   ],
   "execution_count": 76
  },
  {
   "cell_type": "markdown",
   "id": "3915ebc3",
   "metadata": {
    "id": "3915ebc3"
   },
   "source": [
    "**4) Rechercher dans le dico l'artiste ayant écrit une chanson en 1978**"
   ]
  },
  {
   "cell_type": "code",
   "id": "90ad3b66",
   "metadata": {
    "id": "90ad3b66",
    "outputId": "03249ff6-f280-4a25-f508-afba5814da24",
    "ExecuteTime": {
     "end_time": "2024-04-18T10:08:56.690071Z",
     "start_time": "2024-04-18T10:08:56.685249Z"
    }
   },
   "source": [
    "indice =\n",
    "nomArtiste =\n",
    "\n",
    "# playlist['Artiste'][playlist['Année'].index(1978)]\n",
    "\n",
    "print(nomArtiste)"
   ],
   "outputs": [
    {
     "ename": "SyntaxError",
     "evalue": "invalid syntax (690772601.py, line 1)",
     "output_type": "error",
     "traceback": [
      "\u001B[1;36m  Cell \u001B[1;32mIn[77], line 1\u001B[1;36m\u001B[0m\n\u001B[1;33m    indice =\u001B[0m\n\u001B[1;37m            ^\u001B[0m\n\u001B[1;31mSyntaxError\u001B[0m\u001B[1;31m:\u001B[0m invalid syntax\n"
     ]
    }
   ],
   "execution_count": 77
  },
  {
   "cell_type": "markdown",
   "id": "6183d7e0",
   "metadata": {
    "id": "6183d7e0"
   },
   "source": [
    "# Exercice 2"
   ]
  },
  {
   "cell_type": "markdown",
   "id": "9733c157",
   "metadata": {
    "id": "9733c157"
   },
   "source": [
    "**On stocke des sequences dans un dictionnaire nommé sequences:**"
   ]
  },
  {
   "cell_type": "code",
   "id": "630b95c1",
   "metadata": {
    "id": "630b95c1",
    "ExecuteTime": {
     "end_time": "2024-04-18T10:08:56.719205Z",
     "start_time": "2024-04-18T10:08:56.715078Z"
    }
   },
   "source": [
    "sequences = {\n",
    "    \"A.KE.Q23-CXC-CG\": \"ATGGACCCGGTAGATCCTAACCTAGAGCCCTGGAATCACCCGGGAAGTCAGCCTACAACTGCTTGCAACAAATGTTACTGTAAAAAGTGTTGTTATCATTGTCAAGTTTGCTTTTTGAACAAAGGCTTAGGCATCTCCTATGGCAGGAAGAAGCGGAGACAGCGACGAGGAGCTCCTCAGAGCAGTAAGGATCATCAAAATTCTATACAAAAGCAGCCCATACCCCAAACCCAAGGGGTCTCGACAGGCCCGAAAGAATCGAAGAAGAAGATGGAGAGCAAGGCAGAGGCAGATCGATTCGATTAG\",\n",
    "    \"A.SE.SE6594\": \"ATGGATCCAGTAGATCCTAACCTAGAGCCTTGGAACCATCCGGGGAGTCAGCCTTCAACTGCTTGTAACAAGTGTTACTGTAAAATATGTTGCTATCATTGCCCAGTTTGCTTTTTGAACAAAGGCTTAGGCATCTCCTATGGCAGGAAGAAGCGGACCCGGCGACGAGGAGCTCCTCAAAGCAATAAGGATCATCAAAATCCTATATCAAAGCAGCCCATACCCCAAACCCAGGGGGACTCGACAGGCCCGGAAGAATCGAAGAAGAAGGTGGAGAGCAAGGCAGAGACAGATCGATTCGATTAG\",\n",
    "    \"A.SE.SE7253\": \"ATGGATCCGGTAGATCCTAACTTAGAGCCCTGGAACCACCCGGGAAGTCAGCCTACAACTCCTTGTAGCAAGTGTTACTGTAAAAAGTGTTGCTATCATTGCATAGTTTGCTTTCAGAACAAAGGCTTAGGCATCTCCTATGGCAGGAAGAAGCGGAGACAGCGACGAAGAACTCCTCAGAGCAGTAAGGATCATCAAAATCCTATACCAAAGCAGCCCATACCCCAGACCCAAGGGGTCTCGACAGGCCCAGAAGAATCGAAGAAGAAGGTGGAGAGCAAGGCAGAGGCAGATCGATTCGATTAG\",\n",
    "    \"A.SE.SE7535\": \"ATGGACCCGGTAGATCCTAACCTAGAGCCCTGGAATCATCCGGGAAGTCAGCCTACAACTGCTTGTAACAAGTGCTATTGTAAAAAGTGTTGCTATCATTGTCAAGCTTGCTTTTTGAACAAAGGCTTAGGCATCTCCTATGGCAGGAAGAAGCGGAAACAGCGACGAGGAGCTCCTCAGAGCAATAAGGATCATCAAAATCCTATACAACAGCAGTCCATACCCCAAACCCAAGGGATCCCGACAGGCCCGGAAGAATCGAAGAAGAAGGTGGAGAGCAAGGCAGAGACAGATCGATTCGATTAG\",\n",
    "    \"A.SE.SE8131\": \"ATGGATCCAGTAGATCCTAACCTAGAGCCCTGGAACCACCCAGGAAGTCAGCCTACAACTCCTTGTAACAAGTATTTCTGTAAAAGGTGTTGCTATCATTGCTTAGTTTGCTTTCAGCACAAAGGCTTAGGCATCTCCTATGGCAGGAAGAAGCGGAGACAGCGACGAGGAACTCCTCAAAGCAGTAAGGACCATCAAGATCCTATACCAAAGCAGTCCATACCCCCAGCCCAAGGGATCCCGACAGGCCCGGAAGAATCGAAGAAGAAGGTGGAGAGCAAGGCAGAGACAGATCGATTCGCTTAG\",\n",
    "    \"A.SE.SE8538\": \"ATGGAGCCGGTAGATCCTAACATAGAGCCCTGGAACCATCCAGGAAGTCAGCCTACAACTCCTTGCACCAAGTGTTATTGCAAAAAATGTTGCTATCATTGCCCAGCTTGCTTTCTGAACAAAGGCTTAGGCATCTCCTATGGCAGGAAGAAGCGGAAACAGCGACGAGGAACTCCTCAGGGCAATAAGGATCATCAAAATCCTATACCAAAGCAGTCCACACCCCAAACCCAGGGGATCTCGACAGGCCCGGAAGAATCGAAGAAGAAGGTGGAGAGCAAGACAGAGGCAGATCGATTCGATTAG\",\n",
    "    \"A.SE.SE8891\": \"ATGGATCCAGTAGATCCTAACCTAGAGCCCTGGAATCATCCGGGAAGTCAGCCTGCAACTGCTTGTAGCGCGTGTTACTGTAAAAAGTGTTGCTATCATTGTCCAGTTTGCTTTCTGAACAAAGGCTTAGGCATCTCCTATGGCAGGAAGAAGCGGAGACAGCGACGAAGAACTCCTCAAAGCAGTAAGGATCATCAAAATCCTGTACCAAAGCAGTCCATACCCCAAGCCCAGGGGGACTCGACAGGCCCGGAAGAATCGAAGAAGAAGGTGGAGAGCAAGACAGAAACAGATCGATTCGCTTAG\",\n",
    "    \"A.UG.92UG037\": \"ATGGATCCGGTAGATCCTAGCCTAGAGCCCTGGAACCATCCGGGAAGTCAGCCTAAAACTCCTTGTAACAAGTGTTACTGTAAAGTGTGTTGCTATCATTGCCAATGCTGCTTTCTGAACAAGGGCTTAGGCATCTCCTATGGCAGGAAGAAGCGGAAACCCCGACGAGGAACTCCTCAGAGCAATAAGGATCATCAAAATCCTATACCAAAGCAGCCCATACCCCGAACCCAAGGGGACTCGACAGGCCCGGAAGAATCGAAGAAGAAGGTGGAGAGCAAGACAGAGGCAGATCGATACGCTTAG\"}\n"
   ],
   "outputs": [],
   "execution_count": 78
  },
  {
   "cell_type": "code",
   "id": "b3634ab0",
   "metadata": {
    "id": "b3634ab0",
    "outputId": "4ddd4a30-256b-497b-ad96-6813dfe3c332",
    "ExecuteTime": {
     "end_time": "2024-04-18T10:08:56.743229Z",
     "start_time": "2024-04-18T10:08:56.739213Z"
    }
   },
   "source": [
    "# 1) Recuperation de la sequence ayant pour cle A.SE.SE6594\n",
    "seq1 =\n",
    "print(\"Sequence de A.SE.SE6594 : \", seq1)"
   ],
   "outputs": [
    {
     "ename": "SyntaxError",
     "evalue": "invalid syntax (1866482515.py, line 2)",
     "output_type": "error",
     "traceback": [
      "\u001B[1;36m  Cell \u001B[1;32mIn[79], line 2\u001B[1;36m\u001B[0m\n\u001B[1;33m    seq1 =\u001B[0m\n\u001B[1;37m          ^\u001B[0m\n\u001B[1;31mSyntaxError\u001B[0m\u001B[1;31m:\u001B[0m invalid syntax\n"
     ]
    }
   ],
   "execution_count": 79
  },
  {
   "cell_type": "code",
   "id": "d7761610",
   "metadata": {
    "id": "d7761610",
    "outputId": "2100bd06-a5e2-4ec1-eb49-932a3e91a0f9",
    "ExecuteTime": {
     "end_time": "2024-04-18T10:08:56.801188Z",
     "start_time": "2024-04-18T10:08:56.797236Z"
    }
   },
   "source": [
    "##%% Utilisation de la fonction keys()\n",
    "# 2) Recuperer l'ensemble des cles du dictionnaire\n",
    "cles =\n",
    "print(type(cles))\n",
    "print(cles)"
   ],
   "outputs": [
    {
     "ename": "SyntaxError",
     "evalue": "invalid syntax (3010934644.py, line 3)",
     "output_type": "error",
     "traceback": [
      "\u001B[1;36m  Cell \u001B[1;32mIn[80], line 3\u001B[1;36m\u001B[0m\n\u001B[1;33m    cles =\u001B[0m\n\u001B[1;37m          ^\u001B[0m\n\u001B[1;31mSyntaxError\u001B[0m\u001B[1;31m:\u001B[0m invalid syntax\n"
     ]
    }
   ],
   "execution_count": 80
  },
  {
   "cell_type": "code",
   "id": "ee2830c2",
   "metadata": {
    "id": "ee2830c2",
    "outputId": "cb724994-ee99-45a5-d54d-4477b5987ea9",
    "ExecuteTime": {
     "end_time": "2024-04-18T10:08:56.806263Z",
     "start_time": "2024-04-18T10:08:56.802194Z"
    }
   },
   "source": [
    "##%% Utilisation de la fonction index()\n",
    "# 3) Recuperer l'index d'une cle donnée A.SE.SE6594\n",
    "indice =\n",
    "print(indice)"
   ],
   "outputs": [
    {
     "ename": "SyntaxError",
     "evalue": "invalid syntax (1233039947.py, line 3)",
     "output_type": "error",
     "traceback": [
      "\u001B[1;36m  Cell \u001B[1;32mIn[81], line 3\u001B[1;36m\u001B[0m\n\u001B[1;33m    indice =\u001B[0m\n\u001B[1;37m            ^\u001B[0m\n\u001B[1;31mSyntaxError\u001B[0m\u001B[1;31m:\u001B[0m invalid syntax\n"
     ]
    }
   ],
   "execution_count": 81
  },
  {
   "cell_type": "code",
   "id": "73fc0119",
   "metadata": {
    "id": "73fc0119",
    "outputId": "943445a6-07aa-422c-ef31-889191cd9300",
    "ExecuteTime": {
     "end_time": "2024-04-18T10:08:56.849544Z",
     "start_time": "2024-04-18T10:08:56.844271Z"
    }
   },
   "source": [
    "##%% Utilisation de la fonction values()\n",
    "# 4) Recuperer l'ensemble des valeurs du dictionnaire\n",
    "valeurs =\n",
    "print(valeurs)"
   ],
   "outputs": [
    {
     "ename": "SyntaxError",
     "evalue": "invalid syntax (1426561459.py, line 3)",
     "output_type": "error",
     "traceback": [
      "\u001B[1;36m  Cell \u001B[1;32mIn[82], line 3\u001B[1;36m\u001B[0m\n\u001B[1;33m    valeurs =\u001B[0m\n\u001B[1;37m             ^\u001B[0m\n\u001B[1;31mSyntaxError\u001B[0m\u001B[1;31m:\u001B[0m invalid syntax\n"
     ]
    }
   ],
   "execution_count": 82
  },
  {
   "cell_type": "code",
   "id": "14c278c6",
   "metadata": {
    "id": "14c278c6",
    "outputId": "738c57c7-8f90-4d75-943c-4053eeeddf32",
    "ExecuteTime": {
     "end_time": "2024-04-18T10:08:56.888559Z",
     "start_time": "2024-04-18T10:08:56.877552Z"
    }
   },
   "source": [
    "##%% Utilisation de la fonction sort()\n",
    "# 5) Trier la liste des valeursclés dans l'ordre ASCII\n",
    "print(cles)\n",
    "# a compléter, ordonner\n",
    "print(cles)"
   ],
   "outputs": [
    {
     "ename": "NameError",
     "evalue": "name 'cles' is not defined",
     "output_type": "error",
     "traceback": [
      "\u001B[1;31m---------------------------------------------------------------------------\u001B[0m",
      "\u001B[1;31mNameError\u001B[0m                                 Traceback (most recent call last)",
      "Cell \u001B[1;32mIn[83], line 3\u001B[0m\n\u001B[0;32m      1\u001B[0m \u001B[38;5;66;03m##%% Utilisation de la fonction sort()\u001B[39;00m\n\u001B[0;32m      2\u001B[0m \u001B[38;5;66;03m# 5) Trier la liste des valeursclés dans l'ordre ASCII\u001B[39;00m\n\u001B[1;32m----> 3\u001B[0m \u001B[38;5;28mprint\u001B[39m(\u001B[43mcles\u001B[49m)\n\u001B[0;32m      4\u001B[0m \u001B[38;5;66;03m# a compléter, ordonner\u001B[39;00m\n\u001B[0;32m      5\u001B[0m \u001B[38;5;28mprint\u001B[39m(cles)\n",
      "\u001B[1;31mNameError\u001B[0m: name 'cles' is not defined"
     ]
    }
   ],
   "execution_count": 83
  },
  {
   "cell_type": "code",
   "id": "59454901",
   "metadata": {
    "id": "59454901",
    "outputId": "c998c275-b6de-4ba4-bc55-f82f948323c4",
    "ExecuteTime": {
     "end_time": "2024-04-18T10:08:56.912599Z",
     "start_time": "2024-04-18T10:08:56.908566Z"
    }
   },
   "source": [
    "# 6) Recuperation de la sequence ayant pour cle A.SE.SE7253\n",
    "seq2 =\n",
    "print(seq2)"
   ],
   "outputs": [
    {
     "ename": "SyntaxError",
     "evalue": "invalid syntax (3862559571.py, line 2)",
     "output_type": "error",
     "traceback": [
      "\u001B[1;36m  Cell \u001B[1;32mIn[84], line 2\u001B[1;36m\u001B[0m\n\u001B[1;33m    seq2 =\u001B[0m\n\u001B[1;37m          ^\u001B[0m\n\u001B[1;31mSyntaxError\u001B[0m\u001B[1;31m:\u001B[0m invalid syntax\n"
     ]
    }
   ],
   "execution_count": 84
  },
  {
   "cell_type": "code",
   "id": "16ffad0f",
   "metadata": {
    "id": "16ffad0f",
    "outputId": "fe98e750-8270-4d9f-c3b8-bea32437f570",
    "ExecuteTime": {
     "end_time": "2024-04-18T10:08:56.931461Z",
     "start_time": "2024-04-18T10:08:56.926612Z"
    }
   },
   "source": [
    "# 7) Recuperation du 1er codon de la sequence ayant pour cle A.SE.SE7253\n",
    "codon1 =\n",
    "print(codon1)"
   ],
   "outputs": [
    {
     "ename": "SyntaxError",
     "evalue": "invalid syntax (2692765650.py, line 2)",
     "output_type": "error",
     "traceback": [
      "\u001B[1;36m  Cell \u001B[1;32mIn[85], line 2\u001B[1;36m\u001B[0m\n\u001B[1;33m    codon1 =\u001B[0m\n\u001B[1;37m            ^\u001B[0m\n\u001B[1;31mSyntaxError\u001B[0m\u001B[1;31m:\u001B[0m invalid syntax\n"
     ]
    }
   ],
   "execution_count": 85
  },
  {
   "cell_type": "code",
   "id": "73f33006",
   "metadata": {
    "id": "73f33006",
    "outputId": "44a572a6-9e40-4ebd-ffbf-3a56e83948d7",
    "ExecuteTime": {
     "end_time": "2024-04-18T10:08:56.961374Z",
     "start_time": "2024-04-18T10:08:56.957474Z"
    }
   },
   "source": [
    "# 8) Recuperation du dernier codon de la sequence ayant pour cle A.SE.SE7253\n",
    "codonD =\n",
    "print(codonD)"
   ],
   "outputs": [
    {
     "ename": "SyntaxError",
     "evalue": "invalid syntax (156902741.py, line 2)",
     "output_type": "error",
     "traceback": [
      "\u001B[1;36m  Cell \u001B[1;32mIn[86], line 2\u001B[1;36m\u001B[0m\n\u001B[1;33m    codonD =\u001B[0m\n\u001B[1;37m            ^\u001B[0m\n\u001B[1;31mSyntaxError\u001B[0m\u001B[1;31m:\u001B[0m invalid syntax\n"
     ]
    }
   ],
   "execution_count": 86
  }
 ],
 "metadata": {
  "colab": {
   "provenance": []
  },
  "kernelspec": {
   "display_name": "Python 3 (ipykernel)",
   "language": "python",
   "name": "python3"
  },
  "language_info": {
   "codemirror_mode": {
    "name": "ipython",
    "version": 3
   },
   "file_extension": ".py",
   "mimetype": "text/x-python",
   "name": "python",
   "nbconvert_exporter": "python",
   "pygments_lexer": "ipython3",
   "version": "3.9.12"
  }
 },
 "nbformat": 4,
 "nbformat_minor": 5
}
