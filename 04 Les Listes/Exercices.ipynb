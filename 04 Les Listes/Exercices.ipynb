{
 "cells": [
  {
   "cell_type": "markdown",
   "id": "806954ad",
   "metadata": {
    "id": "806954ad"
   },
   "source": [
    "# Exercice 1"
   ]
  },
  {
   "cell_type": "code",
   "id": "46e601e6",
   "metadata": {
    "colab": {
     "base_uri": "https://localhost:8080/"
    },
    "executionInfo": {
     "elapsed": 301,
     "status": "ok",
     "timestamp": 1704898776880,
     "user": {
      "displayName": "Mouny Samy Modeliar",
      "userId": "02339464991922106836"
     },
     "user_tz": -60
    },
    "id": "46e601e6",
    "outputId": "3096a943-b006-4880-c3d7-97a95a46d6d5",
    "ExecuteTime": {
     "end_time": "2024-04-18T12:03:25.274892Z",
     "start_time": "2024-04-18T12:03:25.271249Z"
    }
   },
   "source": [
    "# On considère la séquence suivante:\n",
    "sequence = \"atg ccc AAA AAC Cat GGa Taa\"\n",
    "\n",
    "# 1) Afficher la séquence\n",
    "print(\"Séquence:\", sequence)"
   ],
   "outputs": [
    {
     "name": "stdout",
     "output_type": "stream",
     "text": [
      "Séquence: atg ccc AAA AAC Cat GGa Taa\n"
     ]
    }
   ],
   "execution_count": 122
  },
  {
   "cell_type": "code",
   "id": "fb8ad68d",
   "metadata": {
    "colab": {
     "base_uri": "https://localhost:8080/"
    },
    "executionInfo": {
     "elapsed": 7,
     "status": "ok",
     "timestamp": 1704898913834,
     "user": {
      "displayName": "Mouny Samy Modeliar",
      "userId": "02339464991922106836"
     },
     "user_tz": -60
    },
    "id": "fb8ad68d",
    "outputId": "9a7a4ff0-0330-4b75-a5cb-8a90de75a134",
    "ExecuteTime": {
     "end_time": "2024-04-18T12:03:25.297099Z",
     "start_time": "2024-04-18T12:03:25.293133Z"
    }
   },
   "source": [
    "# 2) Utiliser la fonction upper() pour passer\n",
    "# la chaine de caractères en lettres majuscules\n",
    "sequence = sequence.upper()\n",
    "print(\"Séquence majuscule:\", sequence)"
   ],
   "outputs": [
    {
     "name": "stdout",
     "output_type": "stream",
     "text": [
      "Séquence majuscule: ATG CCC AAA AAC CAT GGA TAA\n"
     ]
    }
   ],
   "execution_count": 123
  },
  {
   "cell_type": "code",
   "id": "d55fe1b6",
   "metadata": {
    "colab": {
     "base_uri": "https://localhost:8080/"
    },
    "executionInfo": {
     "elapsed": 205,
     "status": "ok",
     "timestamp": 1704898954861,
     "user": {
      "displayName": "Mouny Samy Modeliar",
      "userId": "02339464991922106836"
     },
     "user_tz": -60
    },
    "id": "d55fe1b6",
    "outputId": "9a0a57be-6c07-48c2-9fa9-1769a1ee7315",
    "ExecuteTime": {
     "end_time": "2024-04-18T12:03:25.315259Z",
     "start_time": "2024-04-18T12:03:25.312167Z"
    }
   },
   "source": [
    "# 3) Utiliser la fonction split() pour passer\n",
    "# d'une chaine de caractères à une liste\n",
    "liste = sequence.split()\n",
    "print(liste)"
   ],
   "outputs": [
    {
     "name": "stdout",
     "output_type": "stream",
     "text": [
      "['ATG', 'CCC', 'AAA', 'AAC', 'CAT', 'GGA', 'TAA']\n"
     ]
    }
   ],
   "execution_count": 124
  },
  {
   "cell_type": "code",
   "id": "715e5cb8",
   "metadata": {
    "colab": {
     "base_uri": "https://localhost:8080/"
    },
    "executionInfo": {
     "elapsed": 236,
     "status": "ok",
     "timestamp": 1704899245461,
     "user": {
      "displayName": "Mouny Samy Modeliar",
      "userId": "02339464991922106836"
     },
     "user_tz": -60
    },
    "id": "715e5cb8",
    "outputId": "eaa5d0a0-75f0-427b-819b-e26aaf8d9331",
    "ExecuteTime": {
     "end_time": "2024-04-18T12:03:25.320778Z",
     "start_time": "2024-04-18T12:03:25.316265Z"
    }
   },
   "source": [
    "# 4) Utilisern la fonction len() pour retourner\n",
    "# le nombre d'éléments stockes dans la liste\n",
    "len(liste)"
   ],
   "outputs": [
    {
     "data": {
      "text/plain": [
       "7"
      ]
     },
     "execution_count": 125,
     "metadata": {},
     "output_type": "execute_result"
    }
   ],
   "execution_count": 125
  },
  {
   "cell_type": "code",
   "id": "ffc6e8c5",
   "metadata": {
    "colab": {
     "base_uri": "https://localhost:8080/"
    },
    "executionInfo": {
     "elapsed": 312,
     "status": "ok",
     "timestamp": 1704899334789,
     "user": {
      "displayName": "Mouny Samy Modeliar",
      "userId": "02339464991922106836"
     },
     "user_tz": -60
    },
    "id": "ffc6e8c5",
    "outputId": "c279242c-dd60-413f-d995-ca3260a54015",
    "ExecuteTime": {
     "end_time": "2024-04-18T12:03:25.332335Z",
     "start_time": "2024-04-18T12:03:25.328784Z"
    }
   },
   "source": [
    "# 5) Récuperer le premier codon\n",
    "codon1 = liste[0]\n",
    "print(codon1)"
   ],
   "outputs": [
    {
     "name": "stdout",
     "output_type": "stream",
     "text": [
      "ATG\n"
     ]
    }
   ],
   "execution_count": 126
  },
  {
   "cell_type": "code",
   "id": "72866ae1",
   "metadata": {
    "colab": {
     "base_uri": "https://localhost:8080/"
    },
    "executionInfo": {
     "elapsed": 284,
     "status": "ok",
     "timestamp": 1704899498218,
     "user": {
      "displayName": "Mouny Samy Modeliar",
      "userId": "02339464991922106836"
     },
     "user_tz": -60
    },
    "id": "72866ae1",
    "outputId": "e9544304-7980-4fde-95fb-902b128d4a24",
    "ExecuteTime": {
     "end_time": "2024-04-18T12:03:25.344050Z",
     "start_time": "2024-04-18T12:03:25.340343Z"
    }
   },
   "source": [
    "# 6) Récuperer le dernier codon\n",
    "codonDer = liste[-1]\n",
    "print(codonDer)"
   ],
   "outputs": [
    {
     "name": "stdout",
     "output_type": "stream",
     "text": [
      "TAA\n"
     ]
    }
   ],
   "execution_count": 127
  },
  {
   "cell_type": "code",
   "id": "16677f1e",
   "metadata": {
    "colab": {
     "base_uri": "https://localhost:8080/"
    },
    "executionInfo": {
     "elapsed": 210,
     "status": "ok",
     "timestamp": 1704899606637,
     "user": {
      "displayName": "Mouny Samy Modeliar",
      "userId": "02339464991922106836"
     },
     "user_tz": -60
    },
    "id": "16677f1e",
    "outputId": "9adf92bd-6f74-453a-8bfa-744e59d41714",
    "ExecuteTime": {
     "end_time": "2024-04-18T12:03:25.354871Z",
     "start_time": "2024-04-18T12:03:25.351115Z"
    }
   },
   "source": [
    "# 7) Ajouter à l'index 3 le codon ATG\n",
    "# a completer\n",
    "liste.insert(3, 'ATG')\n",
    "print(liste)"
   ],
   "outputs": [
    {
     "name": "stdout",
     "output_type": "stream",
     "text": [
      "['ATG', 'CCC', 'AAA', 'ATG', 'AAC', 'CAT', 'GGA', 'TAA']\n"
     ]
    }
   ],
   "execution_count": 128
  },
  {
   "cell_type": "code",
   "id": "b920878c",
   "metadata": {
    "colab": {
     "base_uri": "https://localhost:8080/"
    },
    "executionInfo": {
     "elapsed": 3,
     "status": "ok",
     "timestamp": 1704899823560,
     "user": {
      "displayName": "Mouny Samy Modeliar",
      "userId": "02339464991922106836"
     },
     "user_tz": -60
    },
    "id": "b920878c",
    "outputId": "aeeb311e-6169-4e3e-f873-62a183045b12",
    "ExecuteTime": {
     "end_time": "2024-04-18T12:03:25.385411Z",
     "start_time": "2024-04-18T12:03:25.381883Z"
    }
   },
   "source": [
    "# 8) Ajouter à la fin de la séquence le codon CCG\n",
    "#liste.insert(-1,'CCG')\n",
    "# a completer\n",
    "liste.insert(-1, 'CCG')\n",
    "print(liste)"
   ],
   "outputs": [
    {
     "name": "stdout",
     "output_type": "stream",
     "text": [
      "['ATG', 'CCC', 'AAA', 'ATG', 'AAC', 'CAT', 'GGA', 'CCG', 'TAA']\n"
     ]
    }
   ],
   "execution_count": 129
  },
  {
   "cell_type": "code",
   "id": "48fd638e",
   "metadata": {
    "colab": {
     "base_uri": "https://localhost:8080/"
    },
    "executionInfo": {
     "elapsed": 3,
     "status": "ok",
     "timestamp": 1704899961999,
     "user": {
      "displayName": "Mouny Samy Modeliar",
      "userId": "02339464991922106836"
     },
     "user_tz": -60
    },
    "id": "48fd638e",
    "outputId": "9a5c157f-3e80-429b-ceda-3e87f0a15a87",
    "ExecuteTime": {
     "end_time": "2024-04-18T12:03:25.398415Z",
     "start_time": "2024-04-18T12:03:25.394418Z"
    }
   },
   "source": [
    "# 9) Ajouter à la fin de la séquence la liste [\"AAT\",\"CTG\"]\n",
    "\n",
    "# liste.append('AAT')\n",
    "# liste.append('CTG')\n",
    "\n",
    "# a completer\n",
    "liste = liste + ['AAT', 'CTG']\n",
    "print(liste)"
   ],
   "outputs": [
    {
     "name": "stdout",
     "output_type": "stream",
     "text": [
      "['ATG', 'CCC', 'AAA', 'ATG', 'AAC', 'CAT', 'GGA', 'CCG', 'TAA', 'AAT', 'CTG']\n"
     ]
    }
   ],
   "execution_count": 130
  },
  {
   "cell_type": "markdown",
   "id": "4d667141",
   "metadata": {
    "id": "4d667141"
   },
   "source": [
    "# Exercice 2\n",
    "\n",
    "Dans cet exercice, on considère des séquences de roulage constantes de 500m.\n",
    "\n",
    "Chaque lettre correspond à un type de roulage :\n",
    "* u : zone urbaine\n",
    "* a : autoroute\n",
    "* e : embouteillage\n",
    "* n : nationale\n",
    "* d : départementale\n",
    "On considère la sequence de roulage à traiter suivante:\n",
    "`roulage = \"uuan naae dauu eeuu AAAA UUUU NneA DDdu aanN\"`"
   ]
  },
  {
   "cell_type": "code",
   "id": "61029bb1",
   "metadata": {
    "executionInfo": {
     "elapsed": 213,
     "status": "ok",
     "timestamp": 1704902350170,
     "user": {
      "displayName": "Mouny Samy Modeliar",
      "userId": "02339464991922106836"
     },
     "user_tz": -60
    },
    "id": "61029bb1",
    "ExecuteTime": {
     "end_time": "2024-04-18T12:03:25.403261Z",
     "start_time": "2024-04-18T12:03:25.399460Z"
    }
   },
   "source": [
    "roulage = \"uuan naae dauu eeuu AAAA UUUU NneA DDdu aanN\""
   ],
   "outputs": [],
   "execution_count": 131
  },
  {
   "cell_type": "code",
   "id": "8388e5cb",
   "metadata": {
    "colab": {
     "base_uri": "https://localhost:8080/"
    },
    "executionInfo": {
     "elapsed": 3,
     "status": "ok",
     "timestamp": 1704902351076,
     "user": {
      "displayName": "Mouny Samy Modeliar",
      "userId": "02339464991922106836"
     },
     "user_tz": -60
    },
    "id": "8388e5cb",
    "outputId": "fa747f3f-c00c-42a3-9062-ff277114f3b5",
    "ExecuteTime": {
     "end_time": "2024-04-18T12:03:25.412645Z",
     "start_time": "2024-04-18T12:03:25.409271Z"
    }
   },
   "source": [
    "# 1) Utiliser la fonction upper() pour passer\n",
    "# la chaine de caractères en lettres majuscules\n",
    "roulage_upper = roulage.upper()\n",
    "print(roulage_upper)"
   ],
   "outputs": [
    {
     "name": "stdout",
     "output_type": "stream",
     "text": [
      "UUAN NAAE DAUU EEUU AAAA UUUU NNEA DDDU AANN\n"
     ]
    }
   ],
   "execution_count": 132
  },
  {
   "cell_type": "code",
   "id": "6dc340fb",
   "metadata": {
    "colab": {
     "base_uri": "https://localhost:8080/"
    },
    "executionInfo": {
     "elapsed": 2,
     "status": "ok",
     "timestamp": 1704902351665,
     "user": {
      "displayName": "Mouny Samy Modeliar",
      "userId": "02339464991922106836"
     },
     "user_tz": -60
    },
    "id": "6dc340fb",
    "outputId": "f662c1aa-b39c-4569-a55c-894752e17eec",
    "ExecuteTime": {
     "end_time": "2024-04-18T12:03:25.441500Z",
     "start_time": "2024-04-18T12:03:25.437654Z"
    }
   },
   "source": [
    "# 2) Utiliser la fonction split() pour passer\n",
    "# d'une chaine de caractères à une liste\n",
    "listeRoulage = roulage_upper.split()\n",
    "print(listeRoulage)"
   ],
   "outputs": [
    {
     "name": "stdout",
     "output_type": "stream",
     "text": [
      "['UUAN', 'NAAE', 'DAUU', 'EEUU', 'AAAA', 'UUUU', 'NNEA', 'DDDU', 'AANN']\n"
     ]
    }
   ],
   "execution_count": 133
  },
  {
   "cell_type": "code",
   "id": "333cb812",
   "metadata": {
    "colab": {
     "base_uri": "https://localhost:8080/"
    },
    "executionInfo": {
     "elapsed": 2,
     "status": "ok",
     "timestamp": 1704902352689,
     "user": {
      "displayName": "Mouny Samy Modeliar",
      "userId": "02339464991922106836"
     },
     "user_tz": -60
    },
    "id": "333cb812",
    "outputId": "0ceddde8-737d-4365-e091-9a06f10c5e7e",
    "ExecuteTime": {
     "end_time": "2024-04-18T12:03:25.459118Z",
     "start_time": "2024-04-18T12:03:25.455546Z"
    }
   },
   "source": [
    "# 3) Utiliser la fonction len() pour retourner\n",
    "# le nombre d'éléments stockes dans la liste\n",
    "n = len(listeRoulage)\n",
    "print(n)"
   ],
   "outputs": [
    {
     "name": "stdout",
     "output_type": "stream",
     "text": [
      "9\n"
     ]
    }
   ],
   "execution_count": 134
  },
  {
   "cell_type": "code",
   "id": "2d8823c9",
   "metadata": {
    "colab": {
     "base_uri": "https://localhost:8080/"
    },
    "executionInfo": {
     "elapsed": 3,
     "status": "ok",
     "timestamp": 1704902354309,
     "user": {
      "displayName": "Mouny Samy Modeliar",
      "userId": "02339464991922106836"
     },
     "user_tz": -60
    },
    "id": "2d8823c9",
    "outputId": "634c0ebc-f698-4d66-ec92-380b2f52c3fd",
    "ExecuteTime": {
     "end_time": "2024-04-18T12:03:25.473291Z",
     "start_time": "2024-04-18T12:03:25.469130Z"
    }
   },
   "source": [
    "# 4) Récuperer le premier tronçon\n",
    "troncon1 = listeRoulage[0]\n",
    "print(troncon1)"
   ],
   "outputs": [
    {
     "name": "stdout",
     "output_type": "stream",
     "text": [
      "UUAN\n"
     ]
    }
   ],
   "execution_count": 135
  },
  {
   "cell_type": "code",
   "id": "521e1305",
   "metadata": {
    "colab": {
     "base_uri": "https://localhost:8080/"
    },
    "executionInfo": {
     "elapsed": 258,
     "status": "ok",
     "timestamp": 1704902356023,
     "user": {
      "displayName": "Mouny Samy Modeliar",
      "userId": "02339464991922106836"
     },
     "user_tz": -60
    },
    "id": "521e1305",
    "outputId": "23cbe583-e6b5-4a86-c450-3d7908667110",
    "ExecuteTime": {
     "end_time": "2024-04-18T12:03:25.485777Z",
     "start_time": "2024-04-18T12:03:25.482304Z"
    }
   },
   "source": [
    "# 5) Récuperer le dernier tronçon\n",
    "tronconDer = listeRoulage[-1]\n",
    "print(tronconDer)"
   ],
   "outputs": [
    {
     "name": "stdout",
     "output_type": "stream",
     "text": [
      "AANN\n"
     ]
    }
   ],
   "execution_count": 136
  },
  {
   "cell_type": "code",
   "id": "b14b8b80",
   "metadata": {
    "colab": {
     "base_uri": "https://localhost:8080/"
    },
    "executionInfo": {
     "elapsed": 330,
     "status": "ok",
     "timestamp": 1704902357436,
     "user": {
      "displayName": "Mouny Samy Modeliar",
      "userId": "02339464991922106836"
     },
     "user_tz": -60
    },
    "id": "b14b8b80",
    "outputId": "f5b43387-41e6-4fad-9395-be45c96b93dc",
    "ExecuteTime": {
     "end_time": "2024-04-18T12:03:25.512414Z",
     "start_time": "2024-04-18T12:03:25.508789Z"
    }
   },
   "source": [
    "# 6) Ajouter à l'index 3 le tronçon AAEU\n",
    "# a compléter\n",
    "listeRoulage.insert(3, 'AAEU')\n",
    "print(listeRoulage)"
   ],
   "outputs": [
    {
     "name": "stdout",
     "output_type": "stream",
     "text": [
      "['UUAN', 'NAAE', 'DAUU', 'AAEU', 'EEUU', 'AAAA', 'UUUU', 'NNEA', 'DDDU', 'AANN']\n"
     ]
    }
   ],
   "execution_count": 137
  },
  {
   "cell_type": "code",
   "id": "07c09431",
   "metadata": {
    "colab": {
     "base_uri": "https://localhost:8080/"
    },
    "executionInfo": {
     "elapsed": 323,
     "status": "ok",
     "timestamp": 1704902379406,
     "user": {
      "displayName": "Mouny Samy Modeliar",
      "userId": "02339464991922106836"
     },
     "user_tz": -60
    },
    "id": "07c09431",
    "outputId": "f55f8338-b365-4825-86ef-f3b635c97649",
    "ExecuteTime": {
     "end_time": "2024-04-18T12:03:25.527082Z",
     "start_time": "2024-04-18T12:03:25.523425Z"
    }
   },
   "source": [
    "# 7) Ajouter à la fin de la séquence le tronçon DDEE\n",
    "# a completer\n",
    "listeRoulage.append('DDEE')\n",
    "print(listeRoulage)"
   ],
   "outputs": [
    {
     "name": "stdout",
     "output_type": "stream",
     "text": [
      "['UUAN', 'NAAE', 'DAUU', 'AAEU', 'EEUU', 'AAAA', 'UUUU', 'NNEA', 'DDDU', 'AANN', 'DDEE']\n"
     ]
    }
   ],
   "execution_count": 138
  },
  {
   "cell_type": "code",
   "id": "ee4f2050",
   "metadata": {
    "colab": {
     "base_uri": "https://localhost:8080/"
    },
    "executionInfo": {
     "elapsed": 7,
     "status": "ok",
     "timestamp": 1704902430193,
     "user": {
      "displayName": "Mouny Samy Modeliar",
      "userId": "02339464991922106836"
     },
     "user_tz": -60
    },
    "id": "ee4f2050",
    "outputId": "df916a3e-748e-4c0c-a6ba-5fe6bf5b66d8",
    "ExecuteTime": {
     "end_time": "2024-04-18T12:03:25.536835Z",
     "start_time": "2024-04-18T12:03:25.533088Z"
    }
   },
   "source": [
    "# 8) Ajouter à la fin de la séquence la liste [\"AADE\",\"NNUD\"]\n",
    "listeRoulage = listeRoulage + ['AADE', 'NNUD']\n",
    "print(listeRoulage)"
   ],
   "outputs": [
    {
     "name": "stdout",
     "output_type": "stream",
     "text": [
      "['UUAN', 'NAAE', 'DAUU', 'AAEU', 'EEUU', 'AAAA', 'UUUU', 'NNEA', 'DDDU', 'AANN', 'DDEE', 'AADE', 'NNUD']\n"
     ]
    }
   ],
   "execution_count": 139
  },
  {
   "cell_type": "code",
   "id": "fc756fb1",
   "metadata": {
    "colab": {
     "base_uri": "https://localhost:8080/"
    },
    "executionInfo": {
     "elapsed": 5,
     "status": "ok",
     "timestamp": 1704902714365,
     "user": {
      "displayName": "Mouny Samy Modeliar",
      "userId": "02339464991922106836"
     },
     "user_tz": -60
    },
    "id": "fc756fb1",
    "outputId": "30b93862-24aa-4f0d-a17d-c8434275fb08",
    "ExecuteTime": {
     "end_time": "2024-04-18T12:03:25.581819Z",
     "start_time": "2024-04-18T12:03:25.577845Z"
    }
   },
   "source": [
    "# 9) Pour la séquence mise à jour, calculer pour chaque type de roulage la distance parcourue\n",
    "chaineMaj = \"\".join(listeRoulage)\n",
    "print(chaineMaj)\n",
    "\n",
    "print(chaineMaj.count(\"U\"))\n",
    "print(chaineMaj.count(\"A\"))\n",
    "print(chaineMaj.count(\"E\"))\n",
    "print(chaineMaj.count(\"N\"))\n",
    "\n",
    "decompte = [chaineMaj.count(\"U\") * 500, chaineMaj.count(\"A\") * 500, chaineMaj.count(\"E\") * 500,\n",
    "            chaineMaj.count(\"N\") * 500]\n",
    "\n",
    "# a completer\n",
    "\n",
    "\n",
    "print(decompte)"
   ],
   "outputs": [
    {
     "name": "stdout",
     "output_type": "stream",
     "text": [
      "UUANNAAEDAUUAAEUEEUUAAAAUUUUNNEADDDUAANNDDEEAADENNUD\n",
      "13\n",
      "15\n",
      "8\n",
      "8\n",
      "[6500, 7500, 4000, 4000]\n"
     ]
    }
   ],
   "execution_count": 140
  },
  {
   "cell_type": "code",
   "id": "59a4cba4",
   "metadata": {
    "colab": {
     "base_uri": "https://localhost:8080/",
     "height": 430
    },
    "executionInfo": {
     "elapsed": 1223,
     "status": "ok",
     "timestamp": 1704902772978,
     "user": {
      "displayName": "Mouny Samy Modeliar",
      "userId": "02339464991922106836"
     },
     "user_tz": -60
    },
    "id": "59a4cba4",
    "outputId": "64c35601-a3e0-41fa-8ff4-e5d1942a75aa",
    "ExecuteTime": {
     "end_time": "2024-04-18T12:03:25.969176Z",
     "start_time": "2024-04-18T12:03:25.594827Z"
    }
   },
   "source": [
    "# 10) représenter les données à l'aide de la méthode bar de pyplot\n",
    "import matplotlib.pyplot as plt\n",
    "\n",
    "roulage = ['Urbain', 'Autoroute', 'Embouteillage', 'Nationale']\n",
    "distance = decompte\n",
    "\n",
    "plt.bar(roulage, distance)\n",
    "plt.xlabel('Type de roulage')\n",
    "plt.ylabel('Distance parcourue')\n",
    "plt.title('Distance parcourue par type de roulage')\n",
    "plt.show()\n",
    "\n",
    "\n",
    "#Seaborn\n",
    "import seaborn as sns\n",
    "\n",
    "sns.barplot(x=roulage, y=distance)\n",
    "sns.set(style='whitegrid')\n",
    "sns.despine()"
   ],
   "outputs": [
    {
     "data": {
      "text/plain": [
       "<Figure size 640x480 with 1 Axes>"
      ],
      "image/png": "[encoded data removed]"
     },
     "metadata": {},
     "output_type": "display_data"
    },
    {
     "data": {
      "text/plain": [
       "<Figure size 640x480 with 1 Axes>"
      ],
      "image/png": "[encoded data removed]"
     },
     "metadata": {},
     "output_type": "display_data"
    }
   ],
   "execution_count": 141
  }
 ],
 "metadata": {
  "colab": {
   "provenance": []
  },
  "kernelspec": {
   "display_name": "Python 3 (ipykernel)",
   "language": "python",
   "name": "python3"
  },
  "language_info": {
   "codemirror_mode": {
    "name": "ipython",
    "version": 3
   },
   "file_extension": ".py",
   "mimetype": "text/x-python",
   "name": "python",
   "nbconvert_exporter": "python",
   "pygments_lexer": "ipython3",
   "version": "3.9.12"
  }
 },
 "nbformat": 4,
 "nbformat_minor": 5
}
