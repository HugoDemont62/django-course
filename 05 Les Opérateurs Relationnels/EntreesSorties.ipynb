{
 "cells": [
  {
   "cell_type": "markdown",
   "id": "ecd540ad",
   "metadata": {},
   "source": [
    "# Input"
   ]
  },
  {
   "cell_type": "code",
   "execution_count": 20,
   "id": "5aa3ba96",
   "metadata": {},
   "outputs": [
    {
     "name": "stdout",
     "output_type": "stream",
     "text": [
      "a+4 = 11\n"
     ]
    },
    {
     "data": {
      "text/plain": [
       "True"
      ]
     },
     "execution_count": 20,
     "metadata": {},
     "output_type": "execute_result"
    }
   ],
   "source": [
    "a = 7\n",
    "chaine = \"a+4\"\n",
    "\n",
    "print(chaine,'=',eval(chaine))\n",
    "eval('1<2')"
   ]
  },
  {
   "cell_type": "code",
   "execution_count": 1,
   "id": "4cc8aeb3",
   "metadata": {},
   "outputs": [
    {
     "name": "stdout",
     "output_type": "stream",
     "text": [
      " Entrer le numéro PubMed : 47\n"
     ]
    }
   ],
   "source": [
    "# Entrée en str\n",
    "a = input(\" Entrer le numéro PubMed : \")"
   ]
  },
  {
   "cell_type": "code",
   "execution_count": 2,
   "id": "7d7db738",
   "metadata": {},
   "outputs": [
    {
     "name": "stdout",
     "output_type": "stream",
     "text": [
      "47\n",
      "<class 'str'>\n"
     ]
    }
   ],
   "source": [
    "print(a)\n",
    "print(type(a))"
   ]
  },
  {
   "cell_type": "code",
   "execution_count": 4,
   "id": "f4e65bd8",
   "metadata": {},
   "outputs": [
    {
     "name": "stdout",
     "output_type": "stream",
     "text": [
      "6\n",
      "<class 'int'>\n"
     ]
    }
   ],
   "source": [
    "b =  int(a)\n",
    "print(b)\n",
    "print(type(b))"
   ]
  },
  {
   "cell_type": "code",
   "execution_count": 5,
   "id": "cc4383cd",
   "metadata": {},
   "outputs": [
    {
     "name": "stdout",
     "output_type": "stream",
     "text": [
      "b ?23\n",
      "23\n",
      "<class 'int'>\n"
     ]
    }
   ],
   "source": [
    "# Entrée int\n",
    "b = int(input(\"b ?\"))\n",
    "print(b)\n",
    "print(type(b))"
   ]
  },
  {
   "cell_type": "code",
   "execution_count": 3,
   "id": "8d81faf3",
   "metadata": {},
   "outputs": [
    {
     "name": "stdout",
     "output_type": "stream",
     "text": [
      "liste ?1234567\n",
      "['1', '2', '3', '4', '5', '6', '7']\n",
      "<class 'list'>\n"
     ]
    }
   ],
   "source": [
    "# Entrée list\n",
    "maListe = list(input(\"liste ?\"))\n",
    "print(maListe)\n",
    "print(type(maListe)) # on peut faire mieux !"
   ]
  },
  {
   "cell_type": "markdown",
   "id": "c163ee8a",
   "metadata": {},
   "source": [
    "# Compléments sur le print"
   ]
  },
  {
   "cell_type": "code",
   "execution_count": 7,
   "id": "4f9fedeb",
   "metadata": {},
   "outputs": [
    {
     "name": "stdout",
     "output_type": "stream",
     "text": [
      "bonjour\n",
      "3\n",
      "bonjour  3\n",
      "bonjour  3 7\n",
      "bonjour  & 3 & 7\n",
      " :::: \n",
      "bonjour  3 7::::3++bonjour :-)"
     ]
    }
   ],
   "source": [
    "a=3;b=7;\n",
    "tab=[3,4,5]\n",
    " \n",
    "# afficher un message\n",
    "print(\"bonjour\")\n",
    " \n",
    "#afficher une variable\n",
    "print(a)\n",
    " \n",
    "# afficher un message + une variable\n",
    "print(\"bonjour \", a)\n",
    " \n",
    "# affichier plusieurs valeurs\n",
    "print(\"bonjour \",a,b)\n",
    " \n",
    "# utiliser un séparateur entre les valeurs\n",
    "print(\"bonjour \",a,b,sep=\" & \",end = '\\n :::: \\n')\n",
    "\n",
    "# utiliser un séparateur entre les valeurs (par défaut \\n)\n",
    "print(\"bonjour \",a,b,end=\"::::\")\n",
    "print(a,end=\"++\")\n",
    "print(\"bonjour \",end=\":-)\")\n",
    "\n"
   ]
  }
 ],
 "metadata": {
  "kernelspec": {
   "display_name": "Python 3 (ipykernel)",
   "language": "python",
   "name": "python3"
  },
  "language_info": {
   "codemirror_mode": {
    "name": "ipython",
    "version": 3
   },
   "file_extension": ".py",
   "mimetype": "text/x-python",
   "name": "python",
   "nbconvert_exporter": "python",
   "pygments_lexer": "ipython3",
   "version": "3.9.12"
  }
 },
 "nbformat": 4,
 "nbformat_minor": 5
}
