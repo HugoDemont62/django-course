{
 "cells": [
  {
   "cell_type": "markdown",
   "id": "ecd540ad",
   "metadata": {},
   "source": [
    "# Input"
   ]
  },
  {
   "cell_type": "code",
   "id": "5aa3ba96",
   "metadata": {
    "ExecuteTime": {
     "end_time": "2024-04-18T12:12:49.207222Z",
     "start_time": "2024-04-18T12:12:49.201688Z"
    }
   },
   "source": [
    "a = 7\n",
    "chaine = \"a+4\"\n",
    "\n",
    "print(chaine,'=',eval(chaine))\n",
    "eval('1<2')"
   ],
   "outputs": [
    {
     "name": "stdout",
     "output_type": "stream",
     "text": [
      "a+4 = 11\n"
     ]
    },
    {
     "data": {
      "text/plain": [
       "True"
      ]
     },
     "execution_count": 10,
     "metadata": {},
     "output_type": "execute_result"
    }
   ],
   "execution_count": 10
  },
  {
   "cell_type": "code",
   "id": "4cc8aeb3",
   "metadata": {
    "ExecuteTime": {
     "end_time": "2024-04-18T12:12:52.677346Z",
     "start_time": "2024-04-18T12:12:49.208228Z"
    }
   },
   "source": [
    "# Entrée en str\n",
    "a = input(\"Entrer le numéro PubMed : \")\n",
    "print(a)"
   ],
   "outputs": [
    {
     "name": "stdout",
     "output_type": "stream",
     "text": [
      "2166\n"
     ]
    }
   ],
   "execution_count": 11
  },
  {
   "cell_type": "code",
   "id": "7d7db738",
   "metadata": {
    "ExecuteTime": {
     "end_time": "2024-04-18T12:12:52.681476Z",
     "start_time": "2024-04-18T12:12:52.678355Z"
    }
   },
   "source": [
    "print(a)\n",
    "print(type(a))"
   ],
   "outputs": [
    {
     "name": "stdout",
     "output_type": "stream",
     "text": [
      "2166\n",
      "<class 'str'>\n"
     ]
    }
   ],
   "execution_count": 12
  },
  {
   "cell_type": "code",
   "id": "f4e65bd8",
   "metadata": {
    "ExecuteTime": {
     "end_time": "2024-04-18T12:12:52.710627Z",
     "start_time": "2024-04-18T12:12:52.706563Z"
    }
   },
   "source": [
    "b = int(a)\n",
    "print(b)\n",
    "print(type(b))"
   ],
   "outputs": [
    {
     "name": "stdout",
     "output_type": "stream",
     "text": [
      "2166\n",
      "<class 'int'>\n"
     ]
    }
   ],
   "execution_count": 13
  },
  {
   "cell_type": "code",
   "id": "cc4383cd",
   "metadata": {
    "ExecuteTime": {
     "end_time": "2024-04-18T12:12:56.193046Z",
     "start_time": "2024-04-18T12:12:52.733306Z"
    }
   },
   "source": [
    "# Entrée int\n",
    "b = int(input(\"b ?\"))\n",
    "print(b)\n",
    "print(type(b))"
   ],
   "outputs": [
    {
     "name": "stdout",
     "output_type": "stream",
     "text": [
      "5\n",
      "<class 'int'>\n"
     ]
    }
   ],
   "execution_count": 14
  },
  {
   "cell_type": "code",
   "id": "8d81faf3",
   "metadata": {
    "ExecuteTime": {
     "end_time": "2024-04-18T12:13:01.094788Z",
     "start_time": "2024-04-18T12:12:56.194055Z"
    }
   },
   "source": [
    "# Entrée list\n",
    "maListe = list(input(\"liste ?\"))\n",
    "print(maListe)\n",
    "print(type(maListe)) # on peut faire mieux !"
   ],
   "outputs": [
    {
     "name": "stdout",
     "output_type": "stream",
     "text": [
      "['z', 'j', 'a', 'e', 'b', 'i', 'a', 'z', 'e', 'ù', ',', 'a', 'z', 'e', 'i', 'a', 'y', 'z', 'g', 'e', 'u', 'a']\n",
      "<class 'list'>\n"
     ]
    }
   ],
   "execution_count": 15
  },
  {
   "cell_type": "markdown",
   "id": "c163ee8a",
   "metadata": {},
   "source": [
    "# Compléments sur le print"
   ]
  },
  {
   "cell_type": "code",
   "id": "4f9fedeb",
   "metadata": {
    "ExecuteTime": {
     "end_time": "2024-04-18T12:13:01.100635Z",
     "start_time": "2024-04-18T12:13:01.095799Z"
    }
   },
   "source": [
    "a=3;b=7;\n",
    "tab=[3,4,5]\n",
    " \n",
    "# afficher un message\n",
    "print(\"bonjour\")\n",
    " \n",
    "#afficher une variable\n",
    "print(a)\n",
    " \n",
    "# afficher un message + une variable\n",
    "print(\"bonjour \", a)\n",
    " \n",
    "# affichier plusieurs valeurs\n",
    "print(\"bonjour \",a,b)\n",
    " \n",
    "# utiliser un séparateur entre les valeurs\n",
    "print(\"bonjour \",a,b,sep=\" & \",end = '\\n :::: \\n')\n",
    "\n",
    "# utiliser un séparateur entre les valeurs (par défaut \\n)\n",
    "print(\"bonjour \",a,b,end=\"::::\")\n",
    "print(a,end=\"++\")\n",
    "print(\"bonjour \",end=\":-)\")\n",
    "\n"
   ],
   "outputs": [
    {
     "name": "stdout",
     "output_type": "stream",
     "text": [
      "bonjour\n",
      "3\n",
      "bonjour  3\n",
      "bonjour  3 7\n",
      "bonjour  & 3 & 7\n",
      " :::: \n",
      "bonjour  3 7::::3++bonjour :-)"
     ]
    }
   ],
   "execution_count": 16
  }
 ],
 "metadata": {
  "kernelspec": {
   "display_name": "Python 3 (ipykernel)",
   "language": "python",
   "name": "python3"
  },
  "language_info": {
   "codemirror_mode": {
    "name": "ipython",
    "version": 3
   },
   "file_extension": ".py",
   "mimetype": "text/x-python",
   "name": "python",
   "nbconvert_exporter": "python",
   "pygments_lexer": "ipython3",
   "version": "3.9.12"
  }
 },
 "nbformat": 4,
 "nbformat_minor": 5
}
