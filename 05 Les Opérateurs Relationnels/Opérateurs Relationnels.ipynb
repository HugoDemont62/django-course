{
 "cells": [
  {
   "cell_type": "markdown",
   "id": "f947d545",
   "metadata": {},
   "source": [
    "# Tests"
   ]
  },
  {
   "cell_type": "code",
   "execution_count": 1,
   "id": "73b019e6",
   "metadata": {},
   "outputs": [
    {
     "data": {
      "text/plain": [
       "True"
      ]
     },
     "execution_count": 1,
     "metadata": {},
     "output_type": "execute_result"
    }
   ],
   "source": [
    "1 <= 2"
   ]
  },
  {
   "cell_type": "code",
   "execution_count": 2,
   "id": "8a7dc5da",
   "metadata": {},
   "outputs": [
    {
     "data": {
      "text/plain": [
       "False"
      ]
     },
     "execution_count": 2,
     "metadata": {},
     "output_type": "execute_result"
    }
   ],
   "source": [
    "20 <= 1"
   ]
  },
  {
   "cell_type": "code",
   "execution_count": 3,
   "id": "ada874fa",
   "metadata": {},
   "outputs": [
    {
     "data": {
      "text/plain": [
       "False"
      ]
     },
     "execution_count": 3,
     "metadata": {},
     "output_type": "execute_result"
    }
   ],
   "source": [
    "# Test avec double égalité pour distinguer\n",
    "# de l'affectation\n",
    "3 == 4"
   ]
  },
  {
   "cell_type": "code",
   "execution_count": 4,
   "id": "a99034c1",
   "metadata": {},
   "outputs": [
    {
     "ename": "SyntaxError",
     "evalue": "cannot assign to literal (732916017.py, line 1)",
     "output_type": "error",
     "traceback": [
      "\u001b[0;36m  Input \u001b[0;32mIn [4]\u001b[0;36m\u001b[0m\n\u001b[0;31m    3 = 4\u001b[0m\n\u001b[0m    ^\u001b[0m\n\u001b[0;31mSyntaxError\u001b[0m\u001b[0;31m:\u001b[0m cannot assign to literal\n"
     ]
    }
   ],
   "source": [
    "# Erreur !\n",
    "3 = 4"
   ]
  },
  {
   "cell_type": "code",
   "execution_count": 5,
   "id": "5fc53632",
   "metadata": {},
   "outputs": [
    {
     "data": {
      "text/plain": [
       "'3 = 4'"
      ]
     },
     "execution_count": 5,
     "metadata": {},
     "output_type": "execute_result"
    }
   ],
   "source": [
    "\"3 = 4\""
   ]
  },
  {
   "cell_type": "markdown",
   "id": "71d675d5",
   "metadata": {},
   "source": [
    "# Construction de proposition logique"
   ]
  },
  {
   "cell_type": "code",
   "execution_count": 5,
   "id": "b4527029",
   "metadata": {},
   "outputs": [],
   "source": [
    "nG = 72\n",
    "temperature = 25\n",
    "bat = [20,30,10] # 3 batteries"
   ]
  },
  {
   "cell_type": "code",
   "execution_count": 11,
   "id": "d3eddd31",
   "metadata": {},
   "outputs": [
    {
     "data": {
      "text/plain": [
       "True"
      ]
     },
     "execution_count": 11,
     "metadata": {},
     "output_type": "execute_result"
    }
   ],
   "source": [
    "(nG == 72 or nG > 100) and (temperature < 30) and (sum(bat)>50)\n",
    "\n",
    "(nG == 72 | nG > 100) & (temperature < 30) & (sum(bat)>50)\n",
    "\n",
    "proposition = (nG == 72 or nG > 100)\n",
    "proposition &= (temperature < 30)\n",
    "proposition &= (sum(bat)>50)\n",
    "proposition"
   ]
  }
 ],
 "metadata": {
  "kernelspec": {
   "display_name": "Python 3 (ipykernel)",
   "language": "python",
   "name": "python3"
  },
  "language_info": {
   "codemirror_mode": {
    "name": "ipython",
    "version": 3
   },
   "file_extension": ".py",
   "mimetype": "text/x-python",
   "name": "python",
   "nbconvert_exporter": "python",
   "pygments_lexer": "ipython3",
   "version": "3.9.12"
  }
 },
 "nbformat": 4,
 "nbformat_minor": 5
}
