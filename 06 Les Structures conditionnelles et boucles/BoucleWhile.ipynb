{
 "cells": [
  {
   "cell_type": "code",
   "execution_count": null,
   "id": "9cce0511",
   "metadata": {},
   "outputs": [],
   "source": [
    "sequence = \"ATGACTGTAGCTATCGTACGTATGCGTTAA\"\n",
    "# Stockage de la sequence dans une variable nommee sequence\n",
    "\n",
    "\n",
    "\n",
    "    # Recalcul de la longueur de la sequence\n",
    "\n",
    "\n",
    "    # Incrementation de 3 afin d'avancer sur la sequence\n"
   ]
  },
  {
   "cell_type": "code",
   "execution_count": null,
   "id": "e310f5a6",
   "metadata": {},
   "outputs": [],
   "source": [
    "# Utilisation de la fonction len() permettant de retourner\n",
    "# la longueur de la chaine de caracteres\n",
    "\n",
    "n = "
   ]
  },
  {
   "cell_type": "code",
   "execution_count": null,
   "id": "003e6190",
   "metadata": {},
   "outputs": [],
   "source": [
    "# Initialisation des variables\n",
    "   # Position du codon\n",
    "   # Position du debut du codon\n",
    "\n",
    "i = \n",
    "j = "
   ]
  },
  {
   "cell_type": "code",
   "execution_count": null,
   "id": "30c0a05b",
   "metadata": {},
   "outputs": [],
   "source": [
    "# Parcours des codons de la sequence a l'aide d'une boucle while\n",
    "\n",
    "while "
   ]
  },
  {
   "cell_type": "code",
   "execution_count": null,
   "id": "bfd1bfcf",
   "metadata": {},
   "outputs": [],
   "source": [
    "# Recuperation des codons dans une liste nommee codon\n",
    "# Affichage du codon et de sa position\n"
   ]
  },
  {
   "cell_type": "code",
   "execution_count": null,
   "id": "453bc723",
   "metadata": {},
   "outputs": [],
   "source": [
    "# Mettre dans une variable chaineATraiter la chaine brute afin qu'elle soit de la bonne taille\n"
   ]
  }
 ],
 "metadata": {
  "kernelspec": {
   "display_name": "Python 3 (ipykernel)",
   "language": "python",
   "name": "python3"
  },
  "language_info": {
   "codemirror_mode": {
    "name": "ipython",
    "version": 3
   },
   "file_extension": ".py",
   "mimetype": "text/x-python",
   "name": "python",
   "nbconvert_exporter": "python",
   "pygments_lexer": "ipython3",
   "version": "3.9.12"
  }
 },
 "nbformat": 4,
 "nbformat_minor": 5
}
