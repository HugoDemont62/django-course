{
 "cells": [
  {
   "metadata": {
    "ExecuteTime": {
     "end_time": "2024-04-18T12:23:57.680206Z",
     "start_time": "2024-04-18T12:23:57.675396Z"
    }
   },
   "cell_type": "code",
   "source": [
    "sequence = \"ATGACTGTAGCTATCGTACGTATGCGTTAA\"\n",
    "# Stockage de la sequence dans une variable nommee sequence\n",
    "    # Recalcul de la longueur de la sequence\n",
    "    # Incrementation de 3 afin d'avancer sur la sequence\n",
    "    \n",
    "while len(sequence) % 3 != 0:\n",
    "    sequence = sequence + \"A\"\n",
    "    # Affichage de la sequence\n",
    "print(sequence)"
   ],
   "id": "ed50213220acc700",
   "outputs": [
    {
     "name": "stdout",
     "output_type": "stream",
     "text": [
      "ATGACTGTAGCTATCGTACGTATGCGTTAA\n"
     ]
    }
   ],
   "execution_count": 21
  },
  {
   "cell_type": "code",
   "id": "e310f5a6",
   "metadata": {
    "ExecuteTime": {
     "end_time": "2024-04-18T12:23:57.684673Z",
     "start_time": "2024-04-18T12:23:57.681216Z"
    }
   },
   "source": [
    "# Utilisation de la fonction len() permettant de retourner\n",
    "# la longueur de la chaine de caracteres\n",
    "\n",
    "n = len(sequence)\n",
    "print(n)"
   ],
   "outputs": [
    {
     "name": "stdout",
     "output_type": "stream",
     "text": [
      "30\n"
     ]
    }
   ],
   "execution_count": 22
  },
  {
   "cell_type": "code",
   "id": "003e6190",
   "metadata": {
    "ExecuteTime": {
     "end_time": "2024-04-18T12:23:57.689110Z",
     "start_time": "2024-04-18T12:23:57.685680Z"
    }
   },
   "source": [
    "# Initialisation des variables\n",
    "   # Position du codon\n",
    "   # Position du debut du codon\n",
    "\n",
    "i = 0\n",
    "j = 0"
   ],
   "outputs": [],
   "execution_count": 23
  },
  {
   "cell_type": "code",
   "id": "30c0a05b",
   "metadata": {
    "ExecuteTime": {
     "end_time": "2024-04-18T12:23:57.694422Z",
     "start_time": "2024-04-18T12:23:57.690161Z"
    }
   },
   "source": [
    "# Parcours des codons de la sequence a l'aide d'une boucle while\n",
    "\n",
    "while i < n:\n",
    "    codon = sequence[i:i+3]\n",
    "    print(\"codon: \", codon, \"position: \", j)\n",
    "    i = i + 3\n",
    "    j = j + 1"
   ],
   "outputs": [
    {
     "name": "stdout",
     "output_type": "stream",
     "text": [
      "codon:  ATG position:  0\n",
      "codon:  ACT position:  1\n",
      "codon:  GTA position:  2\n",
      "codon:  GCT position:  3\n",
      "codon:  ATC position:  4\n",
      "codon:  GTA position:  5\n",
      "codon:  CGT position:  6\n",
      "codon:  ATG position:  7\n",
      "codon:  CGT position:  8\n",
      "codon:  TAA position:  9\n"
     ]
    }
   ],
   "execution_count": 24
  },
  {
   "cell_type": "code",
   "id": "bfd1bfcf",
   "metadata": {
    "ExecuteTime": {
     "end_time": "2024-04-18T12:25:05.581649Z",
     "start_time": "2024-04-18T12:25:05.577904Z"
    }
   },
   "source": [
    "# Recuperation des codons dans une liste nommee codon\n",
    "# Affichage du codon et de sa position\n",
    "\n",
    "codon = []\n",
    "i = 0\n",
    "j = 0\n",
    "\n",
    "while i < n:\n",
    "    codon.append(sequence[i:i+3])\n",
    "    print(\"codon: \", codon[j], \"position: \", j)\n",
    "    i = i + 3\n",
    "    j = j + 1\n",
    "    \n",
    "print(codon)"
   ],
   "outputs": [
    {
     "name": "stdout",
     "output_type": "stream",
     "text": [
      "codon:  ATG position:  0\n",
      "codon:  ACT position:  1\n",
      "codon:  GTA position:  2\n",
      "codon:  GCT position:  3\n",
      "codon:  ATC position:  4\n",
      "codon:  GTA position:  5\n",
      "codon:  CGT position:  6\n",
      "codon:  ATG position:  7\n",
      "codon:  CGT position:  8\n",
      "codon:  TAA position:  9\n",
      "['ATG', 'ACT', 'GTA', 'GCT', 'ATC', 'GTA', 'CGT', 'ATG', 'CGT', 'TAA']\n"
     ]
    }
   ],
   "execution_count": 28
  },
  {
   "cell_type": "code",
   "id": "453bc723",
   "metadata": {
    "ExecuteTime": {
     "end_time": "2024-04-18T12:25:22.481135Z",
     "start_time": "2024-04-18T12:25:22.477540Z"
    }
   },
   "source": [
    "# Mettre dans une variable chaineATraiter la chaine brute afin qu'elle soit de la bonne taille\n",
    "chaineATraiter = sequence[0:n-1]\n",
    "print(chaineATraiter)"
   ],
   "outputs": [
    {
     "name": "stdout",
     "output_type": "stream",
     "text": [
      "ATGACTGTAGCTATCGTACGTATGCGTTA\n"
     ]
    }
   ],
   "execution_count": 29
  }
 ],
 "metadata": {
  "kernelspec": {
   "display_name": "Python 3 (ipykernel)",
   "language": "python",
   "name": "python3"
  },
  "language_info": {
   "codemirror_mode": {
    "name": "ipython",
    "version": 3
   },
   "file_extension": ".py",
   "mimetype": "text/x-python",
   "name": "python",
   "nbconvert_exporter": "python",
   "pygments_lexer": "ipython3",
   "version": "3.9.12"
  }
 },
 "nbformat": 4,
 "nbformat_minor": 5
}
