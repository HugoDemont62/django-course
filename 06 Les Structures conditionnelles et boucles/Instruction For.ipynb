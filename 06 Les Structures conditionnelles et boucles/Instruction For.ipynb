{
 "cells": [
  {
   "cell_type": "markdown",
   "id": "70c55ae6",
   "metadata": {},
   "source": [
    "**Lors d'un essai de roulage d'un véhicule, on a enregistré le type de trajet sur un temps donné.**\n",
    "\n",
    "**Dans la séquence ci-dessous: chaque lettre correspond à un type de trajet de 500 m et une vitesse moyenne donnée comme l'indique le dictionnaire ci-dessous :**"
   ]
  },
  {
   "cell_type": "code",
   "execution_count": null,
   "id": "1f44484d",
   "metadata": {},
   "outputs": [],
   "source": [
    "roulage='uuuuuuunnnaaaaaaaaannuuuuuuueeuuuuuuunnnnnnnnuunnuuuaaaaaaaaannaaauuuueeeeaaaaaeeeaaaaaaa'\n",
    "\n",
    "dico_roulage={'u':['urbain',35],'n':['nationale',70],'a':['autoroute',100],'e':['embouteillage',10]}\n"
   ]
  },
  {
   "cell_type": "code",
   "execution_count": null,
   "id": "dbf74d50",
   "metadata": {},
   "outputs": [],
   "source": [
    "# Calculer la distance totale parcourue\n"
   ]
  },
  {
   "cell_type": "code",
   "execution_count": null,
   "id": "6105b793",
   "metadata": {},
   "outputs": [],
   "source": [
    "# Calculer la distance parcourue par type de trajet\n"
   ]
  },
  {
   "cell_type": "code",
   "execution_count": null,
   "id": "63e5bf11",
   "metadata": {},
   "outputs": [],
   "source": [
    "# Calculer la vitesse moyenne sur tout le roulage\n"
   ]
  },
  {
   "cell_type": "code",
   "execution_count": null,
   "id": "0120467c",
   "metadata": {},
   "outputs": [],
   "source": [
    "# transformer le roulage en une liste de sections de 2km\n"
   ]
  },
  {
   "cell_type": "code",
   "execution_count": null,
   "id": "d8bb802f",
   "metadata": {},
   "outputs": [],
   "source": [
    "# Calculer la vitesse moyenne par section\n"
   ]
  }
 ],
 "metadata": {
  "kernelspec": {
   "display_name": "Python 3 (ipykernel)",
   "language": "python",
   "name": "python3"
  },
  "language_info": {
   "codemirror_mode": {
    "name": "ipython",
    "version": 3
   },
   "file_extension": ".py",
   "mimetype": "text/x-python",
   "name": "python",
   "nbconvert_exporter": "python",
   "pygments_lexer": "ipython3",
   "version": "3.9.12"
  }
 },
 "nbformat": 4,
 "nbformat_minor": 5
}
