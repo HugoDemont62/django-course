{
 "cells": [
  {
   "cell_type": "markdown",
   "id": "70c55ae6",
   "metadata": {},
   "source": [
    "**Lors d'un essai de roulage d'un véhicule, on a enregistré le type de trajet sur un temps donné.**\n",
    "\n",
    "**Dans la séquence ci-dessous: chaque lettre correspond à un type de trajet de 500 m et une vitesse moyenne donnée comme l'indique le dictionnaire ci-dessous :**"
   ]
  },
  {
   "cell_type": "code",
   "id": "1f44484d",
   "metadata": {
    "ExecuteTime": {
     "end_time": "2024-04-18T12:28:51.370562Z",
     "start_time": "2024-04-18T12:28:51.366905Z"
    }
   },
   "source": [
    "roulage='uuuuuuunnnaaaaaaaaannuuuuuuueeuuuuuuunnnnnnnnuunnuuuaaaaaaaaannaaauuuueeeeaaaaaeeeaaaaaaa'\n",
    "\n",
    "dico_roulage={'u':['urbain',35],'n':['nationale',70],'a':['autoroute',100],'e':['embouteillage',10]}\n"
   ],
   "outputs": [],
   "execution_count": 2
  },
  {
   "cell_type": "code",
   "id": "dbf74d50",
   "metadata": {
    "ExecuteTime": {
     "end_time": "2024-04-18T12:28:51.377942Z",
     "start_time": "2024-04-18T12:28:51.371568Z"
    }
   },
   "source": [
    "# Calculer la distance totale parcourue\n",
    "len(roulage)*500"
   ],
   "outputs": [
    {
     "data": {
      "text/plain": [
       "44500"
      ]
     },
     "execution_count": 3,
     "metadata": {},
     "output_type": "execute_result"
    }
   ],
   "execution_count": 3
  },
  {
   "cell_type": "code",
   "id": "6105b793",
   "metadata": {
    "ExecuteTime": {
     "end_time": "2024-04-18T12:31:47.677944Z",
     "start_time": "2024-04-18T12:31:47.673679Z"
    }
   },
   "source": [
    "# Calculer la distance parcourue par type de trajet\n",
    "u = roulage.count('u')*500\n",
    "n = roulage.count('n')*500\n",
    "a = roulage.count('a')*500\n",
    "e = roulage.count('e')*500\n",
    "\n",
    "print(f\"Distance parcourue en urbain : {u} m\", f\"Distance parcourue en nationale : {n} m\", f\"Distance parcourue en autoroute : {a} m\", f\"Distance parcourue en embouteillage : {e} m\", sep='\\n')"
   ],
   "outputs": [
    {
     "name": "stdout",
     "output_type": "stream",
     "text": [
      "Distance parcourue en urbain : 15000 m\n",
      "Distance parcourue en nationale : 8500 m\n",
      "Distance parcourue en autoroute : 16500 m\n",
      "Distance parcourue en embouteillage : 4500 m\n"
     ]
    }
   ],
   "execution_count": 9
  },
  {
   "cell_type": "code",
   "id": "63e5bf11",
   "metadata": {
    "ExecuteTime": {
     "end_time": "2024-04-18T12:32:15.858509Z",
     "start_time": "2024-04-18T12:32:15.854719Z"
    }
   },
   "source": [
    "# Calculer la vitesse moyenne sur tout le roulage\n",
    "vitesse_moyenne = sum([dico_roulage[trajet][1] for trajet in roulage])/len(roulage)\n",
    "print(f\"Vitesse moyenne : {vitesse_moyenne} km/h\")"
   ],
   "outputs": [
    {
     "name": "stdout",
     "output_type": "stream",
     "text": [
      "Vitesse moyenne : 63.258426966292134 km/h\n"
     ]
    }
   ],
   "execution_count": 11
  },
  {
   "cell_type": "code",
   "id": "0120467c",
   "metadata": {
    "ExecuteTime": {
     "end_time": "2024-04-18T12:32:27.761924Z",
     "start_time": "2024-04-18T12:32:27.758202Z"
    }
   },
   "source": [
    "# transformer le roulage en une liste de sections de 2km\n",
    "sections = [roulage[i:i+4] for i in range(0, len(roulage), 4)]\n",
    "print(sections)"
   ],
   "outputs": [
    {
     "name": "stdout",
     "output_type": "stream",
     "text": [
      "['uuuu', 'uuun', 'nnaa', 'aaaa', 'aaan', 'nuuu', 'uuuu', 'eeuu', 'uuuu', 'unnn', 'nnnn', 'nuun', 'nuuu', 'aaaa', 'aaaa', 'anna', 'aauu', 'uuee', 'eeaa', 'aaae', 'eeaa', 'aaaa', 'a']\n"
     ]
    }
   ],
   "execution_count": 12
  },
  {
   "cell_type": "code",
   "id": "d8bb802f",
   "metadata": {
    "ExecuteTime": {
     "end_time": "2024-04-18T12:32:39.363106Z",
     "start_time": "2024-04-18T12:32:39.359557Z"
    }
   },
   "source": [
    "# Calculer la vitesse moyenne par section\n",
    "vitesse_sections = [sum([dico_roulage[trajet][1] for trajet in section])/len(section) for section in sections]\n",
    "print(vitesse_sections)\n"
   ],
   "outputs": [
    {
     "name": "stdout",
     "output_type": "stream",
     "text": [
      "[35.0, 43.75, 85.0, 100.0, 92.5, 43.75, 35.0, 22.5, 35.0, 61.25, 70.0, 52.5, 43.75, 100.0, 100.0, 85.0, 67.5, 22.5, 55.0, 77.5, 55.0, 100.0, 100.0]\n"
     ]
    }
   ],
   "execution_count": 13
  }
 ],
 "metadata": {
  "kernelspec": {
   "display_name": "Python 3 (ipykernel)",
   "language": "python",
   "name": "python3"
  },
  "language_info": {
   "codemirror_mode": {
    "name": "ipython",
    "version": 3
   },
   "file_extension": ".py",
   "mimetype": "text/x-python",
   "name": "python",
   "nbconvert_exporter": "python",
   "pygments_lexer": "ipython3",
   "version": "3.9.12"
  }
 },
 "nbformat": 4,
 "nbformat_minor": 5
}
