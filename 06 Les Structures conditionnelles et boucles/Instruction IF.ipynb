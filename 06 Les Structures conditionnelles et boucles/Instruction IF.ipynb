{
 "cells": [
  {
   "cell_type": "markdown",
   "id": "27743682",
   "metadata": {},
   "source": [
    "**On considère un dictionnaire de séquences ADN** "
   ]
  },
  {
   "cell_type": "code",
   "id": "a6609619",
   "metadata": {
    "ExecuteTime": {
     "end_time": "2024-04-18T12:39:38.125349Z",
     "start_time": "2024-04-18T12:39:38.121895Z"
    }
   },
   "source": [
    "# Stockage des sequences dans un dictionnaire nomme sequences\n",
    "sequences = {\n",
    "\"A.KE.Q23-CXC-CG\" : \"ATGGACCCGGTAGATCCTAACCTAGAGCCCTGGAATCACCCGGGAAGTCAGCCTACAACTGCTTGCAACAAATGTTACTGTAAAAAGTGTTGTTATCATTGTCAAGTTTGCTTTTTGAACAAAGGCTTAGGCATCTCCTATGGCAGGAAGAAGCGGAGACAGCGACGAGGAGCTCCTCAGAGCAGTAAGGATCATCAAAATTCTATACAAAAGCAGCCCATACCCCAAACCCAAGGGGTCTCGACAGGCCCGAAAGAATCGAAGAAGAAGATGGAGAGCAAGGCAGAGGCAGATCGATTCGATTAT\",\n",
    "\"A.SE.SE6594\" : \"ATGGATCCAGTAGATCCTAACCTAGAGCCTTGGAACCATCCGGGGAGTCAGCCTTCAACTGCTTGTAACAAGTGTTACTGTAAAATATGTTGCTATCATTGCCCAGTTTGCTTTTTGAACAAAGGCTTAGGCATCTCCTATGGCAGGAAGAAGCGGACCCGGCGACGAGGAGCTCCTCAAAGCAATAAGGATCATCAAAATCCTATATCAAAGCAGCCCATACCCCAAACCCAGGGGGACTCGACAGGCCCGGAAGAATCGAAGAAGAAGGTGGAGAGCAAGGCAGAGACAGATCGATTCGATTAG\",\n",
    "\"A.SE.SE7253\" : \"ATGGATCCGGTAGATCCTAACTTAGAGCCCTGGAACCACCCGGGAAGTCAGCCTACAACTCCTTGTAGCAAGTGTTACTGTAAAAAGTGTTGCTATCATTGCATAGTTTGCTTTCAGAACAAAGGCTTAGGCATCTCCTATGGCAGGAAGAAGCGGAGACAGCGACGAAGAACTCCTCAGAGCAGTAAGGATCATCAAAATCCTATACCAAAGCAGCCCATACCCCAGACCCAAGGGGTCTCGACAGGCCCAGAAGAATCGAAGAAGAAGGTGGAGAGCAAGGCAGAGGCAGATCGATTCGATTAG\",\n",
    "\"A.SE.SE7535\" : \"ATTGACCCGGTAGATCCTAACCTAGAGCCCTGGAATCATCCGGGAAGTCAGCCTACAACTGCTTGTAACAAGTGCTATTGTAAAAAGTGTTGCTATCATTGTCAAGCTTGCTTTTTGAACAAAGGCTTAGGCATCTCCTATGGCAGGAAGAAGCGGAAACAGCGACGAGGAGCTCCTCAGAGCAATAAGGATCATCAAAATCCTATACAACAGCAGTCCATACCCCAAACCCAAGGGATCCCGACAGGCCCGGAAGAATCGAAGAAGAAGGTGGAGAGCAAGGCAGAGACAGATCGATTCGATTAG\",\n",
    "\"A.SE.SE8131\" : \"ATGGATCCAGTAGATCCTAACCTAGAGCCCTGGAACCACCCAGGAAGTCAGCCTACAACTCCTTGTAACAAGTATTTCTGTAAAAGGTGTTGCTATCATTGCTTAGTTTGCTTTCAGCACAAAGGCTTAGGCATCTCCTATGGCAGGAAGAAGCGGAGACAGCGACGAGGAACTCCTCAAAGCAGTAAGGACCATCAAGATCCTATACCAAAGCAGTCCATACCCCCAGCCCAAGGGATCCCGACAGGCCCGGAAGAATCGAAGAAGAAGGTGGAGAGCAAGGCAGAGACAGATCGATTCGCTTAG\",\n",
    "\"A.SE.SE8538\" : \"ATGGAGCCGGTAGATCCTAACATAGAGCCCTGGAACCATCCAGGAAGTCAGCCTACAACTCCTTGCACCAAGTGTTATTGCAAAAAATGTTGCTATCATTGCCCAGCTTGCTTTCTGAACAAAGGCTTAGGCATCTCCTATGGCAGGAAGAAGCGGAAACAGCGACGAGGAACTCCTCAGGGCAATAAGGATCATCAAAATCCTATACCAAAGCAGTCCACACCCCAAACCCAGGGGATCTCGACAGGCCCGGAAGAATCGAAGAAGAAGGTGGAGAGCAAGACAGAGGCAGATCGATTCGATTAG\",\n",
    "\"A.SE.SE8891\" : \"ATGGATCCAGTAGATCCTAACCTAGAGCCCTGGAATCATCCGGGAAGTCAGCCTGCAACTGCTTGTAGCGCGTGTTACTGTAAAAAGTGTTGCTATCATTGTCCAGTTTGCTTTCTGAACAAAGGCTTAGGCATCTCCTATGGCAGGAAGAAGCGGAGACAGCGACGAAGAACTCCTCAAAGCAGTAAGGATCATCAAAATCCTGTACCAAAGCAGTCCATACCCCAAGCCCAGGGGGACTCGACAGGCCCGGAAGAATCGAAGAAGAAGGTGGAGAGCAAGACAGAAACAGATCGATTCGCTTAG\",\n",
    "\"A.UG.92UG037\" : \"ATGGATCCGGTAGATCCTAGCCTAGAGCCCTGGAACCATCCGGGAAGTCAGCCTAAAACTCCTTGTAACAAGTGTTACTGTAAAGTGTGTTGCTATCATTGCCAATGCTGCTTTCTGAACAAGGGCTTAGGCATCTCCTATGGCAGGAAGAAGCGGAAACCCCGACGAGGAACTCCTCAGAGCAATAAGGATCATCAAAATCCTATACCAAAGCAGCCCATACCCCGAACCCAAGGGGACTCGACAGGCCCGGAAGAATCGAAGAAGAAGGTGGAGAGCAAGACAGAGGCAGATCGATACGCTTAG\"}"
   ],
   "outputs": [],
   "execution_count": 70
  },
  {
   "cell_type": "code",
   "id": "30d13298",
   "metadata": {
    "ExecuteTime": {
     "end_time": "2024-04-18T12:39:38.167420Z",
     "start_time": "2024-04-18T12:39:38.163401Z"
    }
   },
   "source": [
    "# 1) Recuperation de la sequence ayant pour cle A.KE.Q23-CXC-CG\n",
    "seq = sequences[\"A.KE.Q23-CXC-CG\"]\n",
    "print(seq)"
   ],
   "outputs": [
    {
     "name": "stdout",
     "output_type": "stream",
     "text": [
      "ATGGACCCGGTAGATCCTAACCTAGAGCCCTGGAATCACCCGGGAAGTCAGCCTACAACTGCTTGCAACAAATGTTACTGTAAAAAGTGTTGTTATCATTGTCAAGTTTGCTTTTTGAACAAAGGCTTAGGCATCTCCTATGGCAGGAAGAAGCGGAGACAGCGACGAGGAGCTCCTCAGAGCAGTAAGGATCATCAAAATTCTATACAAAAGCAGCCCATACCCCAAACCCAAGGGGTCTCGACAGGCCCGAAAGAATCGAAGAAGAAGATGGAGAGCAAGGCAGAGGCAGATCGATTCGATTAT\n"
     ]
    }
   ],
   "execution_count": 71
  },
  {
   "cell_type": "code",
   "id": "b231fb23",
   "metadata": {
    "ExecuteTime": {
     "end_time": "2024-04-18T12:39:38.200100Z",
     "start_time": "2024-04-18T12:39:38.196486Z"
    }
   },
   "source": [
    "# 2) Recuperation de la sequence ayant pour cle A.SE.SE7535\n",
    "seq2 = sequences[\"A.SE.SE7535\"]\n",
    "print(seq2)"
   ],
   "outputs": [
    {
     "name": "stdout",
     "output_type": "stream",
     "text": [
      "ATTGACCCGGTAGATCCTAACCTAGAGCCCTGGAATCATCCGGGAAGTCAGCCTACAACTGCTTGTAACAAGTGCTATTGTAAAAAGTGTTGCTATCATTGTCAAGCTTGCTTTTTGAACAAAGGCTTAGGCATCTCCTATGGCAGGAAGAAGCGGAAACAGCGACGAGGAGCTCCTCAGAGCAATAAGGATCATCAAAATCCTATACAACAGCAGTCCATACCCCAAACCCAAGGGATCCCGACAGGCCCGGAAGAATCGAAGAAGAAGGTGGAGAGCAAGGCAGAGACAGATCGATTCGATTAG\n"
     ]
    }
   ],
   "execution_count": 72
  },
  {
   "cell_type": "code",
   "id": "dd4137b4",
   "metadata": {
    "ExecuteTime": {
     "end_time": "2024-04-18T12:39:38.204873Z",
     "start_time": "2024-04-18T12:39:38.201107Z"
    }
   },
   "source": [
    "# 3) Test afin de savoir si les deux sequences sont identiques\n",
    "print(seq == seq2)"
   ],
   "outputs": [
    {
     "name": "stdout",
     "output_type": "stream",
     "text": [
      "False\n"
     ]
    }
   ],
   "execution_count": 73
  },
  {
   "cell_type": "code",
   "id": "7a0ddfab",
   "metadata": {
    "ExecuteTime": {
     "end_time": "2024-04-18T12:39:38.217143Z",
     "start_time": "2024-04-18T12:39:38.213882Z"
    }
   },
   "source": [
    "# 4) Calcul de la longueur de la sequence ayant pour cle A.KE.Q23-CXC-CG\n",
    "len(seq)"
   ],
   "outputs": [
    {
     "data": {
      "text/plain": [
       "306"
      ]
     },
     "execution_count": 74,
     "metadata": {},
     "output_type": "execute_result"
    }
   ],
   "execution_count": 74
  },
  {
   "cell_type": "code",
   "id": "7ae70f8c",
   "metadata": {
    "ExecuteTime": {
     "end_time": "2024-04-18T12:39:38.222543Z",
     "start_time": "2024-04-18T12:39:38.218151Z"
    }
   },
   "source": [
    "# 5) Calcul de la longueur de la sequence ayant pour cle A.SE.SE7535\n",
    "len(seq2)"
   ],
   "outputs": [
    {
     "data": {
      "text/plain": [
       "306"
      ]
     },
     "execution_count": 75,
     "metadata": {},
     "output_type": "execute_result"
    }
   ],
   "execution_count": 75
  },
  {
   "cell_type": "code",
   "id": "27097efe",
   "metadata": {
    "ExecuteTime": {
     "end_time": "2024-04-18T12:39:38.236411Z",
     "start_time": "2024-04-18T12:39:38.232550Z"
    }
   },
   "source": [
    "# 6) Test afin de savoir si les longueurs des deux sequences sont identiques\n",
    "print(len(seq) == len(seq2))"
   ],
   "outputs": [
    {
     "name": "stdout",
     "output_type": "stream",
     "text": [
      "True\n"
     ]
    }
   ],
   "execution_count": 76
  },
  {
   "cell_type": "code",
   "id": "18df46aa",
   "metadata": {
    "ExecuteTime": {
     "end_time": "2024-04-18T12:39:38.253722Z",
     "start_time": "2024-04-18T12:39:38.250451Z"
    }
   },
   "source": [
    "# 7) Recuperation du 1er codon de la sequence ayant pour cle A.KE.Q23-CXC-CG\n",
    "print(seq[0:3])"
   ],
   "outputs": [
    {
     "name": "stdout",
     "output_type": "stream",
     "text": [
      "ATG\n"
     ]
    }
   ],
   "execution_count": 77
  },
  {
   "cell_type": "code",
   "id": "2adc6473",
   "metadata": {
    "ExecuteTime": {
     "end_time": "2024-04-18T12:39:38.259106Z",
     "start_time": "2024-04-18T12:39:38.255731Z"
    }
   },
   "source": [
    "# 8) Recuperation du 1er codon de la sequence ayant pour cle A.SE.SE7535\n",
    "print(seq2[0:3])"
   ],
   "outputs": [
    {
     "name": "stdout",
     "output_type": "stream",
     "text": [
      "ATT\n"
     ]
    }
   ],
   "execution_count": 78
  },
  {
   "cell_type": "code",
   "id": "d242775d",
   "metadata": {
    "ExecuteTime": {
     "end_time": "2024-04-18T12:39:38.273586Z",
     "start_time": "2024-04-18T12:39:38.270151Z"
    }
   },
   "source": [
    "# 9) Test afin de savoir si les 1ers codons des deux sequences sont identiques\n",
    "print(seq[0:3] == seq2[0:3])"
   ],
   "outputs": [
    {
     "name": "stdout",
     "output_type": "stream",
     "text": [
      "False\n"
     ]
    }
   ],
   "execution_count": 79
  },
  {
   "cell_type": "code",
   "id": "9018a6a4",
   "metadata": {
    "ExecuteTime": {
     "end_time": "2024-04-18T12:39:38.308179Z",
     "start_time": "2024-04-18T12:39:38.304962Z"
    }
   },
   "source": [
    "# 10) Recuperation du dernier codon de la sequence ayant pour cle A.KE.Q23-CXC-CG\n",
    "print(seq[-3:])"
   ],
   "outputs": [
    {
     "name": "stdout",
     "output_type": "stream",
     "text": [
      "TAT\n"
     ]
    }
   ],
   "execution_count": 80
  },
  {
   "cell_type": "code",
   "id": "58d83355",
   "metadata": {
    "ExecuteTime": {
     "end_time": "2024-04-18T12:39:38.313892Z",
     "start_time": "2024-04-18T12:39:38.310193Z"
    }
   },
   "source": [
    "# 11) Recuperation du dernier codon de la sequence ayant pour cle A.SE.SE7535\n",
    "print(seq2[-3:])"
   ],
   "outputs": [
    {
     "name": "stdout",
     "output_type": "stream",
     "text": [
      "TAG\n"
     ]
    }
   ],
   "execution_count": 81
  },
  {
   "cell_type": "code",
   "id": "65ec1066",
   "metadata": {
    "ExecuteTime": {
     "end_time": "2024-04-18T12:39:38.335459Z",
     "start_time": "2024-04-18T12:39:38.332065Z"
    }
   },
   "source": [
    "# 12) Test afin de savoir si les derniers codons des deux sequences sont identiques\n",
    "print(seq[-3:] == seq2[-3:])"
   ],
   "outputs": [
    {
     "name": "stdout",
     "output_type": "stream",
     "text": [
      "False\n"
     ]
    }
   ],
   "execution_count": 82
  }
 ],
 "metadata": {
  "kernelspec": {
   "display_name": "Python 3 (ipykernel)",
   "language": "python",
   "name": "python3"
  },
  "language_info": {
   "codemirror_mode": {
    "name": "ipython",
    "version": 3
   },
   "file_extension": ".py",
   "mimetype": "text/x-python",
   "name": "python",
   "nbconvert_exporter": "python",
   "pygments_lexer": "ipython3",
   "version": "3.9.12"
  }
 },
 "nbformat": 4,
 "nbformat_minor": 5
}
