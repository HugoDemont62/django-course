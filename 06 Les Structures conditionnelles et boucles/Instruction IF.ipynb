{
 "cells": [
  {
   "cell_type": "markdown",
   "id": "27743682",
   "metadata": {},
   "source": [
    "**On considère un dictionnaire de séquences ADN** "
   ]
  },
  {
   "cell_type": "code",
   "execution_count": 1,
   "id": "a6609619",
   "metadata": {},
   "outputs": [],
   "source": [
    "# Stockage des sequences dans un dictionnaire nomme sequences\n",
    "sequences = {\n",
    "\"A.KE.Q23-CXC-CG\" : \"ATGGACCCGGTAGATCCTAACCTAGAGCCCTGGAATCACCCGGGAAGTCAGCCTACAACTGCTTGCAACAAATGTTACTGTAAAAAGTGTTGTTATCATTGTCAAGTTTGCTTTTTGAACAAAGGCTTAGGCATCTCCTATGGCAGGAAGAAGCGGAGACAGCGACGAGGAGCTCCTCAGAGCAGTAAGGATCATCAAAATTCTATACAAAAGCAGCCCATACCCCAAACCCAAGGGGTCTCGACAGGCCCGAAAGAATCGAAGAAGAAGATGGAGAGCAAGGCAGAGGCAGATCGATTCGATTAT\",\n",
    "\"A.SE.SE6594\" : \"ATGGATCCAGTAGATCCTAACCTAGAGCCTTGGAACCATCCGGGGAGTCAGCCTTCAACTGCTTGTAACAAGTGTTACTGTAAAATATGTTGCTATCATTGCCCAGTTTGCTTTTTGAACAAAGGCTTAGGCATCTCCTATGGCAGGAAGAAGCGGACCCGGCGACGAGGAGCTCCTCAAAGCAATAAGGATCATCAAAATCCTATATCAAAGCAGCCCATACCCCAAACCCAGGGGGACTCGACAGGCCCGGAAGAATCGAAGAAGAAGGTGGAGAGCAAGGCAGAGACAGATCGATTCGATTAG\",\n",
    "\"A.SE.SE7253\" : \"ATGGATCCGGTAGATCCTAACTTAGAGCCCTGGAACCACCCGGGAAGTCAGCCTACAACTCCTTGTAGCAAGTGTTACTGTAAAAAGTGTTGCTATCATTGCATAGTTTGCTTTCAGAACAAAGGCTTAGGCATCTCCTATGGCAGGAAGAAGCGGAGACAGCGACGAAGAACTCCTCAGAGCAGTAAGGATCATCAAAATCCTATACCAAAGCAGCCCATACCCCAGACCCAAGGGGTCTCGACAGGCCCAGAAGAATCGAAGAAGAAGGTGGAGAGCAAGGCAGAGGCAGATCGATTCGATTAG\",\n",
    "\"A.SE.SE7535\" : \"ATTGACCCGGTAGATCCTAACCTAGAGCCCTGGAATCATCCGGGAAGTCAGCCTACAACTGCTTGTAACAAGTGCTATTGTAAAAAGTGTTGCTATCATTGTCAAGCTTGCTTTTTGAACAAAGGCTTAGGCATCTCCTATGGCAGGAAGAAGCGGAAACAGCGACGAGGAGCTCCTCAGAGCAATAAGGATCATCAAAATCCTATACAACAGCAGTCCATACCCCAAACCCAAGGGATCCCGACAGGCCCGGAAGAATCGAAGAAGAAGGTGGAGAGCAAGGCAGAGACAGATCGATTCGATTAG\",\n",
    "\"A.SE.SE8131\" : \"ATGGATCCAGTAGATCCTAACCTAGAGCCCTGGAACCACCCAGGAAGTCAGCCTACAACTCCTTGTAACAAGTATTTCTGTAAAAGGTGTTGCTATCATTGCTTAGTTTGCTTTCAGCACAAAGGCTTAGGCATCTCCTATGGCAGGAAGAAGCGGAGACAGCGACGAGGAACTCCTCAAAGCAGTAAGGACCATCAAGATCCTATACCAAAGCAGTCCATACCCCCAGCCCAAGGGATCCCGACAGGCCCGGAAGAATCGAAGAAGAAGGTGGAGAGCAAGGCAGAGACAGATCGATTCGCTTAG\",\n",
    "\"A.SE.SE8538\" : \"ATGGAGCCGGTAGATCCTAACATAGAGCCCTGGAACCATCCAGGAAGTCAGCCTACAACTCCTTGCACCAAGTGTTATTGCAAAAAATGTTGCTATCATTGCCCAGCTTGCTTTCTGAACAAAGGCTTAGGCATCTCCTATGGCAGGAAGAAGCGGAAACAGCGACGAGGAACTCCTCAGGGCAATAAGGATCATCAAAATCCTATACCAAAGCAGTCCACACCCCAAACCCAGGGGATCTCGACAGGCCCGGAAGAATCGAAGAAGAAGGTGGAGAGCAAGACAGAGGCAGATCGATTCGATTAG\",\n",
    "\"A.SE.SE8891\" : \"ATGGATCCAGTAGATCCTAACCTAGAGCCCTGGAATCATCCGGGAAGTCAGCCTGCAACTGCTTGTAGCGCGTGTTACTGTAAAAAGTGTTGCTATCATTGTCCAGTTTGCTTTCTGAACAAAGGCTTAGGCATCTCCTATGGCAGGAAGAAGCGGAGACAGCGACGAAGAACTCCTCAAAGCAGTAAGGATCATCAAAATCCTGTACCAAAGCAGTCCATACCCCAAGCCCAGGGGGACTCGACAGGCCCGGAAGAATCGAAGAAGAAGGTGGAGAGCAAGACAGAAACAGATCGATTCGCTTAG\",\n",
    "\"A.UG.92UG037\" : \"ATGGATCCGGTAGATCCTAGCCTAGAGCCCTGGAACCATCCGGGAAGTCAGCCTAAAACTCCTTGTAACAAGTGTTACTGTAAAGTGTGTTGCTATCATTGCCAATGCTGCTTTCTGAACAAGGGCTTAGGCATCTCCTATGGCAGGAAGAAGCGGAAACCCCGACGAGGAACTCCTCAGAGCAATAAGGATCATCAAAATCCTATACCAAAGCAGCCCATACCCCGAACCCAAGGGGACTCGACAGGCCCGGAAGAATCGAAGAAGAAGGTGGAGAGCAAGACAGAGGCAGATCGATACGCTTAG\"}"
   ]
  },
  {
   "cell_type": "code",
   "execution_count": 4,
   "id": "30d13298",
   "metadata": {},
   "outputs": [],
   "source": [
    "# 1) Recuperation de la sequence ayant pour cle A.KE.Q23-CXC-CG\n"
   ]
  },
  {
   "cell_type": "code",
   "execution_count": 5,
   "id": "b231fb23",
   "metadata": {},
   "outputs": [],
   "source": [
    "# 2) Recuperation de la sequence ayant pour cle A.SE.SE7535\n",
    "\n"
   ]
  },
  {
   "cell_type": "code",
   "execution_count": null,
   "id": "dd4137b4",
   "metadata": {},
   "outputs": [],
   "source": [
    "# 3) Test afin de savoir si les deux sequences sont identiques\n"
   ]
  },
  {
   "cell_type": "code",
   "execution_count": null,
   "id": "7a0ddfab",
   "metadata": {},
   "outputs": [],
   "source": [
    "# 4) Calcul de la longueur de la sequence ayant pour cle A.KE.Q23-CXC-CG\n"
   ]
  },
  {
   "cell_type": "code",
   "execution_count": null,
   "id": "7ae70f8c",
   "metadata": {},
   "outputs": [],
   "source": [
    "# 5) Calcul de la longueur de la sequence ayant pour cle A.SE.SE7535\n"
   ]
  },
  {
   "cell_type": "code",
   "execution_count": null,
   "id": "27097efe",
   "metadata": {},
   "outputs": [],
   "source": [
    "# 6) Test afin de savoir si les longueurs des deux sequences sont identiques\n"
   ]
  },
  {
   "cell_type": "code",
   "execution_count": null,
   "id": "18df46aa",
   "metadata": {},
   "outputs": [],
   "source": [
    "# 7) Recuperation du 1er codon de la sequence ayant pour cle A.KE.Q23-CXC-CG\n"
   ]
  },
  {
   "cell_type": "code",
   "execution_count": null,
   "id": "2adc6473",
   "metadata": {},
   "outputs": [],
   "source": [
    "# 8) Recuperation du 1er codon de la sequence ayant pour cle A.SE.SE7535\n"
   ]
  },
  {
   "cell_type": "code",
   "execution_count": null,
   "id": "d242775d",
   "metadata": {},
   "outputs": [],
   "source": [
    "# 9) Test afin de savoir si les 1ers codons des deux sequences sont identiques\n"
   ]
  },
  {
   "cell_type": "code",
   "execution_count": null,
   "id": "9018a6a4",
   "metadata": {},
   "outputs": [],
   "source": [
    "# 10) Recuperation du dernier codon de la sequence ayant pour cle A.KE.Q23-CXC-CG"
   ]
  },
  {
   "cell_type": "code",
   "execution_count": null,
   "id": "58d83355",
   "metadata": {},
   "outputs": [],
   "source": [
    "# 11) Recuperation du dernier codon de la sequence ayant pour cle A.SE.SE7535"
   ]
  },
  {
   "cell_type": "code",
   "execution_count": null,
   "id": "65ec1066",
   "metadata": {},
   "outputs": [],
   "source": [
    "# 12) Test afin de savoir si les derniers codons des deux sequences sont identiques"
   ]
  }
 ],
 "metadata": {
  "kernelspec": {
   "display_name": "Python 3 (ipykernel)",
   "language": "python",
   "name": "python3"
  },
  "language_info": {
   "codemirror_mode": {
    "name": "ipython",
    "version": 3
   },
   "file_extension": ".py",
   "mimetype": "text/x-python",
   "name": "python",
   "nbconvert_exporter": "python",
   "pygments_lexer": "ipython3",
   "version": "3.9.12"
  }
 },
 "nbformat": 4,
 "nbformat_minor": 5
}
