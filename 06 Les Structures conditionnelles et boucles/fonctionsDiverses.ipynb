{
 "cells": [
  {
   "cell_type": "markdown",
   "id": "336ec0b7",
   "metadata": {},
   "source": [
    "# fonction range"
   ]
  },
  {
   "cell_type": "code",
   "execution_count": 1,
   "id": "e07bc052",
   "metadata": {},
   "outputs": [
    {
     "data": {
      "text/plain": [
       "[0, 1, 2, 3, 4, 5, 6, 7, 8, 9]"
      ]
     },
     "execution_count": 1,
     "metadata": {},
     "output_type": "execute_result"
    }
   ],
   "source": [
    "list(range(10))"
   ]
  },
  {
   "cell_type": "code",
   "execution_count": 2,
   "id": "61c2770f",
   "metadata": {},
   "outputs": [
    {
     "data": {
      "text/plain": [
       "[4, 5, 6, 7, 8, 9, 10, 11, 12, 13, 14, 15, 16]"
      ]
     },
     "execution_count": 2,
     "metadata": {},
     "output_type": "execute_result"
    }
   ],
   "source": [
    "list(range(4,17))"
   ]
  },
  {
   "cell_type": "code",
   "execution_count": 3,
   "id": "e2661c52",
   "metadata": {},
   "outputs": [
    {
     "data": {
      "text/plain": [
       "[-5, -2, 1, 4, 7, 10, 13, 16, 19]"
      ]
     },
     "execution_count": 3,
     "metadata": {},
     "output_type": "execute_result"
    }
   ],
   "source": [
    "list(range(-5, 20, 3))"
   ]
  },
  {
   "cell_type": "markdown",
   "id": "185fa055",
   "metadata": {},
   "source": [
    "# Création d'une table de multiplication avec une boucle for"
   ]
  },
  {
   "cell_type": "code",
   "execution_count": 4,
   "id": "cae2f24e",
   "metadata": {},
   "outputs": [
    {
     "name": "stdout",
     "output_type": "stream",
     "text": [
      "1 * 9 = 9\n",
      "2 * 9 = 18\n",
      "3 * 9 = 27\n",
      "4 * 9 = 36\n",
      "5 * 9 = 45\n",
      "6 * 9 = 54\n",
      "7 * 9 = 63\n",
      "8 * 9 = 72\n",
      "9 * 9 = 81\n",
      "10 * 9 = 90\n"
     ]
    }
   ],
   "source": [
    "for compteur in range(1,11):\n",
    "    print(compteur, '* 9 =', compteur*9)"
   ]
  },
  {
   "cell_type": "markdown",
   "id": "4daf2c91",
   "metadata": {},
   "source": [
    "# Liste de compréhension"
   ]
  },
  {
   "cell_type": "code",
   "execution_count": 6,
   "id": "aa951aa8",
   "metadata": {},
   "outputs": [
    {
     "name": "stdout",
     "output_type": "stream",
     "text": [
      "[1, 2, 3, 4, 5, 6, 7, 8, 9, 10]\n"
     ]
    }
   ],
   "source": [
    "rliste = range(10) # On prend une liste contenant les 10 premiers entiers naturels\n",
    "Liste=[element + 1 for element in rliste]\n",
    "print(Liste)"
   ]
  },
  {
   "cell_type": "markdown",
   "id": "618e63c1",
   "metadata": {},
   "source": [
    "# Enumerate"
   ]
  },
  {
   "cell_type": "code",
   "execution_count": 7,
   "id": "d8beb003",
   "metadata": {},
   "outputs": [
    {
     "name": "stdout",
     "output_type": "stream",
     "text": [
      "liste[i] = 1\n",
      "liste[i] = 3\n",
      "liste[i] = 5\n",
      "liste[i] = 7\n",
      "liste[i] = 8\n",
      "liste[i] = 12\n",
      "liste[0] = 1\n",
      "liste[1] = 3\n",
      "liste[2] = 5\n",
      "liste[3] = 7\n",
      "liste[4] = 8\n",
      "liste[5] = 12\n"
     ]
    }
   ],
   "source": [
    "liste =[1,3, 5, 7, 8, 12]\n",
    "for element in liste:\n",
    "    print ('liste[i] = %r' % ( element))\n",
    "    \n",
    "for indice, valeur in enumerate(liste):\n",
    "    print ('liste[%d] = %r' % (indice, valeur))"
   ]
  },
  {
   "cell_type": "markdown",
   "id": "6c783aa1",
   "metadata": {},
   "source": [
    "# Zip"
   ]
  },
  {
   "cell_type": "code",
   "execution_count": 1,
   "id": "85ac9ef2",
   "metadata": {},
   "outputs": [
    {
     "name": "stdout",
     "output_type": "stream",
     "text": [
      "[(1, 4), (2, 5), (3, 6)]\n",
      "1 4 -- 5\n",
      "2 5 -- 7\n",
      "3 6 -- 9\n"
     ]
    }
   ],
   "source": [
    "L1 = [1, 2, 3]\n",
    "L2 = [4, 5, 6]\n",
    "print (list(zip(L1, L2)))\n",
    "for (x, y) in zip(L1, L2):\n",
    "    print( x, y, '--', x + y)"
   ]
  },
  {
   "cell_type": "markdown",
   "id": "a06c3eb9",
   "metadata": {},
   "source": [
    "# Map"
   ]
  },
  {
   "cell_type": "code",
   "execution_count": 9,
   "id": "0b9c837f",
   "metadata": {},
   "outputs": [
    {
     "name": "stdout",
     "output_type": "stream",
     "text": [
      "[1, 1, 2, 6]\n"
     ]
    },
    {
     "data": {
      "text/plain": [
       "[5, 7, 9]"
      ]
     },
     "execution_count": 9,
     "metadata": {},
     "output_type": "execute_result"
    }
   ],
   "source": [
    "from math import factorial\n",
    "print(list(map(factorial,range(4))))\n",
    "\n",
    "def add(x,y):\n",
    "    return x+y\n",
    "list(map(add,L1,L2))"
   ]
  },
  {
   "cell_type": "markdown",
   "id": "a2ba8c1a",
   "metadata": {},
   "source": [
    "# Exercice"
   ]
  },
  {
   "cell_type": "markdown",
   "id": "8e7e1e55",
   "metadata": {},
   "source": [
    "**1) Calculer le cos d'une liste de 10 valeurs succéssives à l'aide de la fonction map**"
   ]
  },
  {
   "cell_type": "code",
   "id": "70c06097",
   "metadata": {
    "ExecuteTime": {
     "end_time": "2024-04-18T12:28:15.929182Z",
     "start_time": "2024-04-18T12:28:15.924449Z"
    }
   },
   "source": [
    "# 2)\n",
    "##%%  Réaliser l'affichage ci-dessous à partir du dico\n",
    "#     Jagger |  Satisfaction |   3.2 |  1965\n",
    "#   Aznavour |  Mes emmerdes |   4.2 |  1976\n",
    "#    Peyroux |         Smile |   2.9 |  2006\n",
    "#     Marley |       Jamming |   3.7 |  1978\n",
    "#     Chedid |   Superchérie |   3.1 |  2019\n",
    "#       King |       Lucille |   2.8 |  1968 \n",
    "\n",
    "playlist={'Artiste':['Jagger','Aznavour','Peyroux','Marley','Chedid','King'],\n",
    "'Titre':['Satisfaction','Mes emmerdes','Smile','Jamming','Superchérie','Lucille'],\n",
    "'Durée':[3.2,4.2,2.9,3.7,3.1,2.8],'Année':[1965,1976,2006,1978,2019,1968]}\n",
    "\n",
    "for i in range(len(playlist['Artiste'])):\n",
    "    print('%10s | %15s | %4.1f | %4d' % (playlist['Artiste'][i],playlist['Titre'][i],playlist['Durée'][i],playlist['Année'][i]))\n",
    "    \n"
   ],
   "outputs": [
    {
     "name": "stdout",
     "output_type": "stream",
     "text": [
      "    Jagger |    Satisfaction |  3.2 | 1965\n",
      "  Aznavour |    Mes emmerdes |  4.2 | 1976\n",
      "   Peyroux |           Smile |  2.9 | 2006\n",
      "    Marley |         Jamming |  3.7 | 1978\n",
      "    Chedid |     Superchérie |  3.1 | 2019\n",
      "      King |         Lucille |  2.8 | 1968\n"
     ]
    }
   ],
   "execution_count": 1
  }
 ],
 "metadata": {
  "kernelspec": {
   "display_name": "Python 3 (ipykernel)",
   "language": "python",
   "name": "python3"
  },
  "language_info": {
   "codemirror_mode": {
    "name": "ipython",
    "version": 3
   },
   "file_extension": ".py",
   "mimetype": "text/x-python",
   "name": "python",
   "nbconvert_exporter": "python",
   "pygments_lexer": "ipython3",
   "version": "3.9.12"
  }
 },
 "nbformat": 4,
 "nbformat_minor": 5
}
